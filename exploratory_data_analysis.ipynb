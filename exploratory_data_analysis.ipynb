{
  "nbformat": 4,
  "nbformat_minor": 0,
  "metadata": {
    "colab": {
      "provenance": [],
      "collapsed_sections": [
        "HjYOFxK-sWsn",
        "v-oXxOfgsrj8",
        "k7YSwG412eoP"
      ],
      "mount_file_id": "1tWuFaSM-nQIYZdSzSe6AHdIzdD3F3YSD",
      "authorship_tag": "ABX9TyM3Ji7ZN4b1HbN8/CuVcglX",
      "include_colab_link": true
    },
    "kernelspec": {
      "name": "python3",
      "display_name": "Python 3"
    },
    "language_info": {
      "name": "python"
    }
  },
  "cells": [
    {
      "cell_type": "markdown",
      "metadata": {
        "id": "view-in-github",
        "colab_type": "text"
      },
      "source": [
        "<a href=\"https://colab.research.google.com/github/nanishat/EDA-Titanic/blob/main/exploratory_data_analysis.ipynb\" target=\"_parent\"><img src=\"https://colab.research.google.com/assets/colab-badge.svg\" alt=\"Open In Colab\"/></a>"
      ]
    },
    {
      "cell_type": "markdown",
      "source": [
        "# Import pandas and read csv of all three dataset from titanic"
      ],
      "metadata": {
        "id": "HjYOFxK-sWsn"
      }
    },
    {
      "cell_type": "code",
      "source": [
        "# all the imports\n",
        "\n",
        "import pandas as pd\n",
        "import numpy as np\n",
        "import matplotlib.pyplot as plt\n",
        "import seaborn as sns\n",
        "from scipy import stats"
      ],
      "metadata": {
        "id": "2u5yA5j9_IyS"
      },
      "execution_count": 83,
      "outputs": []
    },
    {
      "cell_type": "code",
      "source": [
        "# Set style for better-looking plots\n",
        "\n",
        "sns.set_style(\"whitegrid\")\n",
        "plt.rcParams['figure.figsize'] = (10, 6)"
      ],
      "metadata": {
        "id": "5Gmek3LhAIHx"
      },
      "execution_count": 84,
      "outputs": []
    },
    {
      "cell_type": "code",
      "execution_count": 85,
      "metadata": {
        "id": "V6O7lOdMZYq4"
      },
      "outputs": [],
      "source": [
        "# read csv files\n",
        "\n",
        "genderSubmission = pd.read_csv('/content/drive/MyDrive/Colab Notebooks/csv files/gender_submission.csv')\n",
        "test = pd.read_csv('/content/drive/MyDrive/Colab Notebooks/csv files/test.csv')\n",
        "train = pd.read_csv('/content/drive/MyDrive/Colab Notebooks/csv files/train.csv')"
      ]
    },
    {
      "cell_type": "markdown",
      "source": [
        "# Display the first 10 rows of the each data frame to gain familiarity with the data structure\n"
      ],
      "metadata": {
        "id": "v-oXxOfgsrj8"
      }
    },
    {
      "cell_type": "code",
      "source": [
        "genderSubmission.head(10)"
      ],
      "metadata": {
        "colab": {
          "base_uri": "https://localhost:8080/",
          "height": 0
        },
        "id": "2w5dCVznr-Ux",
        "outputId": "4a0797e6-c4b9-4a77-c270-8711d2518cc6"
      },
      "execution_count": 86,
      "outputs": [
        {
          "output_type": "execute_result",
          "data": {
            "text/plain": [
              "   PassengerId  Survived\n",
              "0          892         0\n",
              "1          893         1\n",
              "2          894         0\n",
              "3          895         0\n",
              "4          896         1\n",
              "5          897         0\n",
              "6          898         1\n",
              "7          899         0\n",
              "8          900         1\n",
              "9          901         0"
            ],
            "text/html": [
              "\n",
              "  <div id=\"df-b31143cb-02b9-4397-89e5-9f716793fe3b\" class=\"colab-df-container\">\n",
              "    <div>\n",
              "<style scoped>\n",
              "    .dataframe tbody tr th:only-of-type {\n",
              "        vertical-align: middle;\n",
              "    }\n",
              "\n",
              "    .dataframe tbody tr th {\n",
              "        vertical-align: top;\n",
              "    }\n",
              "\n",
              "    .dataframe thead th {\n",
              "        text-align: right;\n",
              "    }\n",
              "</style>\n",
              "<table border=\"1\" class=\"dataframe\">\n",
              "  <thead>\n",
              "    <tr style=\"text-align: right;\">\n",
              "      <th></th>\n",
              "      <th>PassengerId</th>\n",
              "      <th>Survived</th>\n",
              "    </tr>\n",
              "  </thead>\n",
              "  <tbody>\n",
              "    <tr>\n",
              "      <th>0</th>\n",
              "      <td>892</td>\n",
              "      <td>0</td>\n",
              "    </tr>\n",
              "    <tr>\n",
              "      <th>1</th>\n",
              "      <td>893</td>\n",
              "      <td>1</td>\n",
              "    </tr>\n",
              "    <tr>\n",
              "      <th>2</th>\n",
              "      <td>894</td>\n",
              "      <td>0</td>\n",
              "    </tr>\n",
              "    <tr>\n",
              "      <th>3</th>\n",
              "      <td>895</td>\n",
              "      <td>0</td>\n",
              "    </tr>\n",
              "    <tr>\n",
              "      <th>4</th>\n",
              "      <td>896</td>\n",
              "      <td>1</td>\n",
              "    </tr>\n",
              "    <tr>\n",
              "      <th>5</th>\n",
              "      <td>897</td>\n",
              "      <td>0</td>\n",
              "    </tr>\n",
              "    <tr>\n",
              "      <th>6</th>\n",
              "      <td>898</td>\n",
              "      <td>1</td>\n",
              "    </tr>\n",
              "    <tr>\n",
              "      <th>7</th>\n",
              "      <td>899</td>\n",
              "      <td>0</td>\n",
              "    </tr>\n",
              "    <tr>\n",
              "      <th>8</th>\n",
              "      <td>900</td>\n",
              "      <td>1</td>\n",
              "    </tr>\n",
              "    <tr>\n",
              "      <th>9</th>\n",
              "      <td>901</td>\n",
              "      <td>0</td>\n",
              "    </tr>\n",
              "  </tbody>\n",
              "</table>\n",
              "</div>\n",
              "    <div class=\"colab-df-buttons\">\n",
              "\n",
              "  <div class=\"colab-df-container\">\n",
              "    <button class=\"colab-df-convert\" onclick=\"convertToInteractive('df-b31143cb-02b9-4397-89e5-9f716793fe3b')\"\n",
              "            title=\"Convert this dataframe to an interactive table.\"\n",
              "            style=\"display:none;\">\n",
              "\n",
              "  <svg xmlns=\"http://www.w3.org/2000/svg\" height=\"24px\" viewBox=\"0 -960 960 960\">\n",
              "    <path d=\"M120-120v-720h720v720H120Zm60-500h600v-160H180v160Zm220 220h160v-160H400v160Zm0 220h160v-160H400v160ZM180-400h160v-160H180v160Zm440 0h160v-160H620v160ZM180-180h160v-160H180v160Zm440 0h160v-160H620v160Z\"/>\n",
              "  </svg>\n",
              "    </button>\n",
              "\n",
              "  <style>\n",
              "    .colab-df-container {\n",
              "      display:flex;\n",
              "      gap: 12px;\n",
              "    }\n",
              "\n",
              "    .colab-df-convert {\n",
              "      background-color: #E8F0FE;\n",
              "      border: none;\n",
              "      border-radius: 50%;\n",
              "      cursor: pointer;\n",
              "      display: none;\n",
              "      fill: #1967D2;\n",
              "      height: 32px;\n",
              "      padding: 0 0 0 0;\n",
              "      width: 32px;\n",
              "    }\n",
              "\n",
              "    .colab-df-convert:hover {\n",
              "      background-color: #E2EBFA;\n",
              "      box-shadow: 0px 1px 2px rgba(60, 64, 67, 0.3), 0px 1px 3px 1px rgba(60, 64, 67, 0.15);\n",
              "      fill: #174EA6;\n",
              "    }\n",
              "\n",
              "    .colab-df-buttons div {\n",
              "      margin-bottom: 4px;\n",
              "    }\n",
              "\n",
              "    [theme=dark] .colab-df-convert {\n",
              "      background-color: #3B4455;\n",
              "      fill: #D2E3FC;\n",
              "    }\n",
              "\n",
              "    [theme=dark] .colab-df-convert:hover {\n",
              "      background-color: #434B5C;\n",
              "      box-shadow: 0px 1px 3px 1px rgba(0, 0, 0, 0.15);\n",
              "      filter: drop-shadow(0px 1px 2px rgba(0, 0, 0, 0.3));\n",
              "      fill: #FFFFFF;\n",
              "    }\n",
              "  </style>\n",
              "\n",
              "    <script>\n",
              "      const buttonEl =\n",
              "        document.querySelector('#df-b31143cb-02b9-4397-89e5-9f716793fe3b button.colab-df-convert');\n",
              "      buttonEl.style.display =\n",
              "        google.colab.kernel.accessAllowed ? 'block' : 'none';\n",
              "\n",
              "      async function convertToInteractive(key) {\n",
              "        const element = document.querySelector('#df-b31143cb-02b9-4397-89e5-9f716793fe3b');\n",
              "        const dataTable =\n",
              "          await google.colab.kernel.invokeFunction('convertToInteractive',\n",
              "                                                    [key], {});\n",
              "        if (!dataTable) return;\n",
              "\n",
              "        const docLinkHtml = 'Like what you see? Visit the ' +\n",
              "          '<a target=\"_blank\" href=https://colab.research.google.com/notebooks/data_table.ipynb>data table notebook</a>'\n",
              "          + ' to learn more about interactive tables.';\n",
              "        element.innerHTML = '';\n",
              "        dataTable['output_type'] = 'display_data';\n",
              "        await google.colab.output.renderOutput(dataTable, element);\n",
              "        const docLink = document.createElement('div');\n",
              "        docLink.innerHTML = docLinkHtml;\n",
              "        element.appendChild(docLink);\n",
              "      }\n",
              "    </script>\n",
              "  </div>\n",
              "\n",
              "\n",
              "    <div id=\"df-f0f56382-0fae-45c4-8e45-d7bd0c50f29d\">\n",
              "      <button class=\"colab-df-quickchart\" onclick=\"quickchart('df-f0f56382-0fae-45c4-8e45-d7bd0c50f29d')\"\n",
              "                title=\"Suggest charts\"\n",
              "                style=\"display:none;\">\n",
              "\n",
              "<svg xmlns=\"http://www.w3.org/2000/svg\" height=\"24px\"viewBox=\"0 0 24 24\"\n",
              "     width=\"24px\">\n",
              "    <g>\n",
              "        <path d=\"M19 3H5c-1.1 0-2 .9-2 2v14c0 1.1.9 2 2 2h14c1.1 0 2-.9 2-2V5c0-1.1-.9-2-2-2zM9 17H7v-7h2v7zm4 0h-2V7h2v10zm4 0h-2v-4h2v4z\"/>\n",
              "    </g>\n",
              "</svg>\n",
              "      </button>\n",
              "\n",
              "<style>\n",
              "  .colab-df-quickchart {\n",
              "      --bg-color: #E8F0FE;\n",
              "      --fill-color: #1967D2;\n",
              "      --hover-bg-color: #E2EBFA;\n",
              "      --hover-fill-color: #174EA6;\n",
              "      --disabled-fill-color: #AAA;\n",
              "      --disabled-bg-color: #DDD;\n",
              "  }\n",
              "\n",
              "  [theme=dark] .colab-df-quickchart {\n",
              "      --bg-color: #3B4455;\n",
              "      --fill-color: #D2E3FC;\n",
              "      --hover-bg-color: #434B5C;\n",
              "      --hover-fill-color: #FFFFFF;\n",
              "      --disabled-bg-color: #3B4455;\n",
              "      --disabled-fill-color: #666;\n",
              "  }\n",
              "\n",
              "  .colab-df-quickchart {\n",
              "    background-color: var(--bg-color);\n",
              "    border: none;\n",
              "    border-radius: 50%;\n",
              "    cursor: pointer;\n",
              "    display: none;\n",
              "    fill: var(--fill-color);\n",
              "    height: 32px;\n",
              "    padding: 0;\n",
              "    width: 32px;\n",
              "  }\n",
              "\n",
              "  .colab-df-quickchart:hover {\n",
              "    background-color: var(--hover-bg-color);\n",
              "    box-shadow: 0 1px 2px rgba(60, 64, 67, 0.3), 0 1px 3px 1px rgba(60, 64, 67, 0.15);\n",
              "    fill: var(--button-hover-fill-color);\n",
              "  }\n",
              "\n",
              "  .colab-df-quickchart-complete:disabled,\n",
              "  .colab-df-quickchart-complete:disabled:hover {\n",
              "    background-color: var(--disabled-bg-color);\n",
              "    fill: var(--disabled-fill-color);\n",
              "    box-shadow: none;\n",
              "  }\n",
              "\n",
              "  .colab-df-spinner {\n",
              "    border: 2px solid var(--fill-color);\n",
              "    border-color: transparent;\n",
              "    border-bottom-color: var(--fill-color);\n",
              "    animation:\n",
              "      spin 1s steps(1) infinite;\n",
              "  }\n",
              "\n",
              "  @keyframes spin {\n",
              "    0% {\n",
              "      border-color: transparent;\n",
              "      border-bottom-color: var(--fill-color);\n",
              "      border-left-color: var(--fill-color);\n",
              "    }\n",
              "    20% {\n",
              "      border-color: transparent;\n",
              "      border-left-color: var(--fill-color);\n",
              "      border-top-color: var(--fill-color);\n",
              "    }\n",
              "    30% {\n",
              "      border-color: transparent;\n",
              "      border-left-color: var(--fill-color);\n",
              "      border-top-color: var(--fill-color);\n",
              "      border-right-color: var(--fill-color);\n",
              "    }\n",
              "    40% {\n",
              "      border-color: transparent;\n",
              "      border-right-color: var(--fill-color);\n",
              "      border-top-color: var(--fill-color);\n",
              "    }\n",
              "    60% {\n",
              "      border-color: transparent;\n",
              "      border-right-color: var(--fill-color);\n",
              "    }\n",
              "    80% {\n",
              "      border-color: transparent;\n",
              "      border-right-color: var(--fill-color);\n",
              "      border-bottom-color: var(--fill-color);\n",
              "    }\n",
              "    90% {\n",
              "      border-color: transparent;\n",
              "      border-bottom-color: var(--fill-color);\n",
              "    }\n",
              "  }\n",
              "</style>\n",
              "\n",
              "      <script>\n",
              "        async function quickchart(key) {\n",
              "          const quickchartButtonEl =\n",
              "            document.querySelector('#' + key + ' button');\n",
              "          quickchartButtonEl.disabled = true;  // To prevent multiple clicks.\n",
              "          quickchartButtonEl.classList.add('colab-df-spinner');\n",
              "          try {\n",
              "            const charts = await google.colab.kernel.invokeFunction(\n",
              "                'suggestCharts', [key], {});\n",
              "          } catch (error) {\n",
              "            console.error('Error during call to suggestCharts:', error);\n",
              "          }\n",
              "          quickchartButtonEl.classList.remove('colab-df-spinner');\n",
              "          quickchartButtonEl.classList.add('colab-df-quickchart-complete');\n",
              "        }\n",
              "        (() => {\n",
              "          let quickchartButtonEl =\n",
              "            document.querySelector('#df-f0f56382-0fae-45c4-8e45-d7bd0c50f29d button');\n",
              "          quickchartButtonEl.style.display =\n",
              "            google.colab.kernel.accessAllowed ? 'block' : 'none';\n",
              "        })();\n",
              "      </script>\n",
              "    </div>\n",
              "\n",
              "    </div>\n",
              "  </div>\n"
            ],
            "application/vnd.google.colaboratory.intrinsic+json": {
              "type": "dataframe",
              "variable_name": "genderSubmission",
              "summary": "{\n  \"name\": \"genderSubmission\",\n  \"rows\": 418,\n  \"fields\": [\n    {\n      \"column\": \"PassengerId\",\n      \"properties\": {\n        \"dtype\": \"number\",\n        \"std\": 120,\n        \"min\": 892,\n        \"max\": 1309,\n        \"num_unique_values\": 418,\n        \"samples\": [\n          1213,\n          1216,\n          1280\n        ],\n        \"semantic_type\": \"\",\n        \"description\": \"\"\n      }\n    },\n    {\n      \"column\": \"Survived\",\n      \"properties\": {\n        \"dtype\": \"number\",\n        \"std\": 0,\n        \"min\": 0,\n        \"max\": 1,\n        \"num_unique_values\": 2,\n        \"samples\": [\n          1,\n          0\n        ],\n        \"semantic_type\": \"\",\n        \"description\": \"\"\n      }\n    }\n  ]\n}"
            }
          },
          "metadata": {},
          "execution_count": 86
        }
      ]
    },
    {
      "cell_type": "markdown",
      "source": [
        "---"
      ],
      "metadata": {
        "id": "e5l6_W1zt1rY"
      }
    },
    {
      "cell_type": "code",
      "source": [
        "test.head(10)"
      ],
      "metadata": {
        "colab": {
          "base_uri": "https://localhost:8080/",
          "height": 0
        },
        "id": "kQSF63V9tTBx",
        "outputId": "6e44a337-bd5d-44a6-cf22-db182fd3286c"
      },
      "execution_count": 87,
      "outputs": [
        {
          "output_type": "execute_result",
          "data": {
            "text/plain": [
              "   PassengerId  Pclass                                          Name     Sex  \\\n",
              "0          892       3                              Kelly, Mr. James    male   \n",
              "1          893       3              Wilkes, Mrs. James (Ellen Needs)  female   \n",
              "2          894       2                     Myles, Mr. Thomas Francis    male   \n",
              "3          895       3                              Wirz, Mr. Albert    male   \n",
              "4          896       3  Hirvonen, Mrs. Alexander (Helga E Lindqvist)  female   \n",
              "5          897       3                    Svensson, Mr. Johan Cervin    male   \n",
              "6          898       3                          Connolly, Miss. Kate  female   \n",
              "7          899       2                  Caldwell, Mr. Albert Francis    male   \n",
              "8          900       3     Abrahim, Mrs. Joseph (Sophie Halaut Easu)  female   \n",
              "9          901       3                       Davies, Mr. John Samuel    male   \n",
              "\n",
              "    Age  SibSp  Parch     Ticket     Fare Cabin Embarked  \n",
              "0  34.5      0      0     330911   7.8292   NaN        Q  \n",
              "1  47.0      1      0     363272   7.0000   NaN        S  \n",
              "2  62.0      0      0     240276   9.6875   NaN        Q  \n",
              "3  27.0      0      0     315154   8.6625   NaN        S  \n",
              "4  22.0      1      1    3101298  12.2875   NaN        S  \n",
              "5  14.0      0      0       7538   9.2250   NaN        S  \n",
              "6  30.0      0      0     330972   7.6292   NaN        Q  \n",
              "7  26.0      1      1     248738  29.0000   NaN        S  \n",
              "8  18.0      0      0       2657   7.2292   NaN        C  \n",
              "9  21.0      2      0  A/4 48871  24.1500   NaN        S  "
            ],
            "text/html": [
              "\n",
              "  <div id=\"df-2ab2d84a-d28a-474a-a30c-f9fe3fa1176d\" class=\"colab-df-container\">\n",
              "    <div>\n",
              "<style scoped>\n",
              "    .dataframe tbody tr th:only-of-type {\n",
              "        vertical-align: middle;\n",
              "    }\n",
              "\n",
              "    .dataframe tbody tr th {\n",
              "        vertical-align: top;\n",
              "    }\n",
              "\n",
              "    .dataframe thead th {\n",
              "        text-align: right;\n",
              "    }\n",
              "</style>\n",
              "<table border=\"1\" class=\"dataframe\">\n",
              "  <thead>\n",
              "    <tr style=\"text-align: right;\">\n",
              "      <th></th>\n",
              "      <th>PassengerId</th>\n",
              "      <th>Pclass</th>\n",
              "      <th>Name</th>\n",
              "      <th>Sex</th>\n",
              "      <th>Age</th>\n",
              "      <th>SibSp</th>\n",
              "      <th>Parch</th>\n",
              "      <th>Ticket</th>\n",
              "      <th>Fare</th>\n",
              "      <th>Cabin</th>\n",
              "      <th>Embarked</th>\n",
              "    </tr>\n",
              "  </thead>\n",
              "  <tbody>\n",
              "    <tr>\n",
              "      <th>0</th>\n",
              "      <td>892</td>\n",
              "      <td>3</td>\n",
              "      <td>Kelly, Mr. James</td>\n",
              "      <td>male</td>\n",
              "      <td>34.5</td>\n",
              "      <td>0</td>\n",
              "      <td>0</td>\n",
              "      <td>330911</td>\n",
              "      <td>7.8292</td>\n",
              "      <td>NaN</td>\n",
              "      <td>Q</td>\n",
              "    </tr>\n",
              "    <tr>\n",
              "      <th>1</th>\n",
              "      <td>893</td>\n",
              "      <td>3</td>\n",
              "      <td>Wilkes, Mrs. James (Ellen Needs)</td>\n",
              "      <td>female</td>\n",
              "      <td>47.0</td>\n",
              "      <td>1</td>\n",
              "      <td>0</td>\n",
              "      <td>363272</td>\n",
              "      <td>7.0000</td>\n",
              "      <td>NaN</td>\n",
              "      <td>S</td>\n",
              "    </tr>\n",
              "    <tr>\n",
              "      <th>2</th>\n",
              "      <td>894</td>\n",
              "      <td>2</td>\n",
              "      <td>Myles, Mr. Thomas Francis</td>\n",
              "      <td>male</td>\n",
              "      <td>62.0</td>\n",
              "      <td>0</td>\n",
              "      <td>0</td>\n",
              "      <td>240276</td>\n",
              "      <td>9.6875</td>\n",
              "      <td>NaN</td>\n",
              "      <td>Q</td>\n",
              "    </tr>\n",
              "    <tr>\n",
              "      <th>3</th>\n",
              "      <td>895</td>\n",
              "      <td>3</td>\n",
              "      <td>Wirz, Mr. Albert</td>\n",
              "      <td>male</td>\n",
              "      <td>27.0</td>\n",
              "      <td>0</td>\n",
              "      <td>0</td>\n",
              "      <td>315154</td>\n",
              "      <td>8.6625</td>\n",
              "      <td>NaN</td>\n",
              "      <td>S</td>\n",
              "    </tr>\n",
              "    <tr>\n",
              "      <th>4</th>\n",
              "      <td>896</td>\n",
              "      <td>3</td>\n",
              "      <td>Hirvonen, Mrs. Alexander (Helga E Lindqvist)</td>\n",
              "      <td>female</td>\n",
              "      <td>22.0</td>\n",
              "      <td>1</td>\n",
              "      <td>1</td>\n",
              "      <td>3101298</td>\n",
              "      <td>12.2875</td>\n",
              "      <td>NaN</td>\n",
              "      <td>S</td>\n",
              "    </tr>\n",
              "    <tr>\n",
              "      <th>5</th>\n",
              "      <td>897</td>\n",
              "      <td>3</td>\n",
              "      <td>Svensson, Mr. Johan Cervin</td>\n",
              "      <td>male</td>\n",
              "      <td>14.0</td>\n",
              "      <td>0</td>\n",
              "      <td>0</td>\n",
              "      <td>7538</td>\n",
              "      <td>9.2250</td>\n",
              "      <td>NaN</td>\n",
              "      <td>S</td>\n",
              "    </tr>\n",
              "    <tr>\n",
              "      <th>6</th>\n",
              "      <td>898</td>\n",
              "      <td>3</td>\n",
              "      <td>Connolly, Miss. Kate</td>\n",
              "      <td>female</td>\n",
              "      <td>30.0</td>\n",
              "      <td>0</td>\n",
              "      <td>0</td>\n",
              "      <td>330972</td>\n",
              "      <td>7.6292</td>\n",
              "      <td>NaN</td>\n",
              "      <td>Q</td>\n",
              "    </tr>\n",
              "    <tr>\n",
              "      <th>7</th>\n",
              "      <td>899</td>\n",
              "      <td>2</td>\n",
              "      <td>Caldwell, Mr. Albert Francis</td>\n",
              "      <td>male</td>\n",
              "      <td>26.0</td>\n",
              "      <td>1</td>\n",
              "      <td>1</td>\n",
              "      <td>248738</td>\n",
              "      <td>29.0000</td>\n",
              "      <td>NaN</td>\n",
              "      <td>S</td>\n",
              "    </tr>\n",
              "    <tr>\n",
              "      <th>8</th>\n",
              "      <td>900</td>\n",
              "      <td>3</td>\n",
              "      <td>Abrahim, Mrs. Joseph (Sophie Halaut Easu)</td>\n",
              "      <td>female</td>\n",
              "      <td>18.0</td>\n",
              "      <td>0</td>\n",
              "      <td>0</td>\n",
              "      <td>2657</td>\n",
              "      <td>7.2292</td>\n",
              "      <td>NaN</td>\n",
              "      <td>C</td>\n",
              "    </tr>\n",
              "    <tr>\n",
              "      <th>9</th>\n",
              "      <td>901</td>\n",
              "      <td>3</td>\n",
              "      <td>Davies, Mr. John Samuel</td>\n",
              "      <td>male</td>\n",
              "      <td>21.0</td>\n",
              "      <td>2</td>\n",
              "      <td>0</td>\n",
              "      <td>A/4 48871</td>\n",
              "      <td>24.1500</td>\n",
              "      <td>NaN</td>\n",
              "      <td>S</td>\n",
              "    </tr>\n",
              "  </tbody>\n",
              "</table>\n",
              "</div>\n",
              "    <div class=\"colab-df-buttons\">\n",
              "\n",
              "  <div class=\"colab-df-container\">\n",
              "    <button class=\"colab-df-convert\" onclick=\"convertToInteractive('df-2ab2d84a-d28a-474a-a30c-f9fe3fa1176d')\"\n",
              "            title=\"Convert this dataframe to an interactive table.\"\n",
              "            style=\"display:none;\">\n",
              "\n",
              "  <svg xmlns=\"http://www.w3.org/2000/svg\" height=\"24px\" viewBox=\"0 -960 960 960\">\n",
              "    <path d=\"M120-120v-720h720v720H120Zm60-500h600v-160H180v160Zm220 220h160v-160H400v160Zm0 220h160v-160H400v160ZM180-400h160v-160H180v160Zm440 0h160v-160H620v160ZM180-180h160v-160H180v160Zm440 0h160v-160H620v160Z\"/>\n",
              "  </svg>\n",
              "    </button>\n",
              "\n",
              "  <style>\n",
              "    .colab-df-container {\n",
              "      display:flex;\n",
              "      gap: 12px;\n",
              "    }\n",
              "\n",
              "    .colab-df-convert {\n",
              "      background-color: #E8F0FE;\n",
              "      border: none;\n",
              "      border-radius: 50%;\n",
              "      cursor: pointer;\n",
              "      display: none;\n",
              "      fill: #1967D2;\n",
              "      height: 32px;\n",
              "      padding: 0 0 0 0;\n",
              "      width: 32px;\n",
              "    }\n",
              "\n",
              "    .colab-df-convert:hover {\n",
              "      background-color: #E2EBFA;\n",
              "      box-shadow: 0px 1px 2px rgba(60, 64, 67, 0.3), 0px 1px 3px 1px rgba(60, 64, 67, 0.15);\n",
              "      fill: #174EA6;\n",
              "    }\n",
              "\n",
              "    .colab-df-buttons div {\n",
              "      margin-bottom: 4px;\n",
              "    }\n",
              "\n",
              "    [theme=dark] .colab-df-convert {\n",
              "      background-color: #3B4455;\n",
              "      fill: #D2E3FC;\n",
              "    }\n",
              "\n",
              "    [theme=dark] .colab-df-convert:hover {\n",
              "      background-color: #434B5C;\n",
              "      box-shadow: 0px 1px 3px 1px rgba(0, 0, 0, 0.15);\n",
              "      filter: drop-shadow(0px 1px 2px rgba(0, 0, 0, 0.3));\n",
              "      fill: #FFFFFF;\n",
              "    }\n",
              "  </style>\n",
              "\n",
              "    <script>\n",
              "      const buttonEl =\n",
              "        document.querySelector('#df-2ab2d84a-d28a-474a-a30c-f9fe3fa1176d button.colab-df-convert');\n",
              "      buttonEl.style.display =\n",
              "        google.colab.kernel.accessAllowed ? 'block' : 'none';\n",
              "\n",
              "      async function convertToInteractive(key) {\n",
              "        const element = document.querySelector('#df-2ab2d84a-d28a-474a-a30c-f9fe3fa1176d');\n",
              "        const dataTable =\n",
              "          await google.colab.kernel.invokeFunction('convertToInteractive',\n",
              "                                                    [key], {});\n",
              "        if (!dataTable) return;\n",
              "\n",
              "        const docLinkHtml = 'Like what you see? Visit the ' +\n",
              "          '<a target=\"_blank\" href=https://colab.research.google.com/notebooks/data_table.ipynb>data table notebook</a>'\n",
              "          + ' to learn more about interactive tables.';\n",
              "        element.innerHTML = '';\n",
              "        dataTable['output_type'] = 'display_data';\n",
              "        await google.colab.output.renderOutput(dataTable, element);\n",
              "        const docLink = document.createElement('div');\n",
              "        docLink.innerHTML = docLinkHtml;\n",
              "        element.appendChild(docLink);\n",
              "      }\n",
              "    </script>\n",
              "  </div>\n",
              "\n",
              "\n",
              "    <div id=\"df-8704d781-97b3-4036-ba59-41fbefd30718\">\n",
              "      <button class=\"colab-df-quickchart\" onclick=\"quickchart('df-8704d781-97b3-4036-ba59-41fbefd30718')\"\n",
              "                title=\"Suggest charts\"\n",
              "                style=\"display:none;\">\n",
              "\n",
              "<svg xmlns=\"http://www.w3.org/2000/svg\" height=\"24px\"viewBox=\"0 0 24 24\"\n",
              "     width=\"24px\">\n",
              "    <g>\n",
              "        <path d=\"M19 3H5c-1.1 0-2 .9-2 2v14c0 1.1.9 2 2 2h14c1.1 0 2-.9 2-2V5c0-1.1-.9-2-2-2zM9 17H7v-7h2v7zm4 0h-2V7h2v10zm4 0h-2v-4h2v4z\"/>\n",
              "    </g>\n",
              "</svg>\n",
              "      </button>\n",
              "\n",
              "<style>\n",
              "  .colab-df-quickchart {\n",
              "      --bg-color: #E8F0FE;\n",
              "      --fill-color: #1967D2;\n",
              "      --hover-bg-color: #E2EBFA;\n",
              "      --hover-fill-color: #174EA6;\n",
              "      --disabled-fill-color: #AAA;\n",
              "      --disabled-bg-color: #DDD;\n",
              "  }\n",
              "\n",
              "  [theme=dark] .colab-df-quickchart {\n",
              "      --bg-color: #3B4455;\n",
              "      --fill-color: #D2E3FC;\n",
              "      --hover-bg-color: #434B5C;\n",
              "      --hover-fill-color: #FFFFFF;\n",
              "      --disabled-bg-color: #3B4455;\n",
              "      --disabled-fill-color: #666;\n",
              "  }\n",
              "\n",
              "  .colab-df-quickchart {\n",
              "    background-color: var(--bg-color);\n",
              "    border: none;\n",
              "    border-radius: 50%;\n",
              "    cursor: pointer;\n",
              "    display: none;\n",
              "    fill: var(--fill-color);\n",
              "    height: 32px;\n",
              "    padding: 0;\n",
              "    width: 32px;\n",
              "  }\n",
              "\n",
              "  .colab-df-quickchart:hover {\n",
              "    background-color: var(--hover-bg-color);\n",
              "    box-shadow: 0 1px 2px rgba(60, 64, 67, 0.3), 0 1px 3px 1px rgba(60, 64, 67, 0.15);\n",
              "    fill: var(--button-hover-fill-color);\n",
              "  }\n",
              "\n",
              "  .colab-df-quickchart-complete:disabled,\n",
              "  .colab-df-quickchart-complete:disabled:hover {\n",
              "    background-color: var(--disabled-bg-color);\n",
              "    fill: var(--disabled-fill-color);\n",
              "    box-shadow: none;\n",
              "  }\n",
              "\n",
              "  .colab-df-spinner {\n",
              "    border: 2px solid var(--fill-color);\n",
              "    border-color: transparent;\n",
              "    border-bottom-color: var(--fill-color);\n",
              "    animation:\n",
              "      spin 1s steps(1) infinite;\n",
              "  }\n",
              "\n",
              "  @keyframes spin {\n",
              "    0% {\n",
              "      border-color: transparent;\n",
              "      border-bottom-color: var(--fill-color);\n",
              "      border-left-color: var(--fill-color);\n",
              "    }\n",
              "    20% {\n",
              "      border-color: transparent;\n",
              "      border-left-color: var(--fill-color);\n",
              "      border-top-color: var(--fill-color);\n",
              "    }\n",
              "    30% {\n",
              "      border-color: transparent;\n",
              "      border-left-color: var(--fill-color);\n",
              "      border-top-color: var(--fill-color);\n",
              "      border-right-color: var(--fill-color);\n",
              "    }\n",
              "    40% {\n",
              "      border-color: transparent;\n",
              "      border-right-color: var(--fill-color);\n",
              "      border-top-color: var(--fill-color);\n",
              "    }\n",
              "    60% {\n",
              "      border-color: transparent;\n",
              "      border-right-color: var(--fill-color);\n",
              "    }\n",
              "    80% {\n",
              "      border-color: transparent;\n",
              "      border-right-color: var(--fill-color);\n",
              "      border-bottom-color: var(--fill-color);\n",
              "    }\n",
              "    90% {\n",
              "      border-color: transparent;\n",
              "      border-bottom-color: var(--fill-color);\n",
              "    }\n",
              "  }\n",
              "</style>\n",
              "\n",
              "      <script>\n",
              "        async function quickchart(key) {\n",
              "          const quickchartButtonEl =\n",
              "            document.querySelector('#' + key + ' button');\n",
              "          quickchartButtonEl.disabled = true;  // To prevent multiple clicks.\n",
              "          quickchartButtonEl.classList.add('colab-df-spinner');\n",
              "          try {\n",
              "            const charts = await google.colab.kernel.invokeFunction(\n",
              "                'suggestCharts', [key], {});\n",
              "          } catch (error) {\n",
              "            console.error('Error during call to suggestCharts:', error);\n",
              "          }\n",
              "          quickchartButtonEl.classList.remove('colab-df-spinner');\n",
              "          quickchartButtonEl.classList.add('colab-df-quickchart-complete');\n",
              "        }\n",
              "        (() => {\n",
              "          let quickchartButtonEl =\n",
              "            document.querySelector('#df-8704d781-97b3-4036-ba59-41fbefd30718 button');\n",
              "          quickchartButtonEl.style.display =\n",
              "            google.colab.kernel.accessAllowed ? 'block' : 'none';\n",
              "        })();\n",
              "      </script>\n",
              "    </div>\n",
              "\n",
              "    </div>\n",
              "  </div>\n"
            ],
            "application/vnd.google.colaboratory.intrinsic+json": {
              "type": "dataframe",
              "variable_name": "test",
              "summary": "{\n  \"name\": \"test\",\n  \"rows\": 418,\n  \"fields\": [\n    {\n      \"column\": \"PassengerId\",\n      \"properties\": {\n        \"dtype\": \"number\",\n        \"std\": 120,\n        \"min\": 892,\n        \"max\": 1309,\n        \"num_unique_values\": 418,\n        \"samples\": [\n          1213,\n          1216,\n          1280\n        ],\n        \"semantic_type\": \"\",\n        \"description\": \"\"\n      }\n    },\n    {\n      \"column\": \"Pclass\",\n      \"properties\": {\n        \"dtype\": \"number\",\n        \"std\": 0,\n        \"min\": 1,\n        \"max\": 3,\n        \"num_unique_values\": 3,\n        \"samples\": [\n          3,\n          2,\n          1\n        ],\n        \"semantic_type\": \"\",\n        \"description\": \"\"\n      }\n    },\n    {\n      \"column\": \"Name\",\n      \"properties\": {\n        \"dtype\": \"string\",\n        \"num_unique_values\": 418,\n        \"samples\": [\n          \"Krekorian, Mr. Neshan\",\n          \"Kreuchen, Miss. Emilie\",\n          \"Canavan, Mr. Patrick\"\n        ],\n        \"semantic_type\": \"\",\n        \"description\": \"\"\n      }\n    },\n    {\n      \"column\": \"Sex\",\n      \"properties\": {\n        \"dtype\": \"category\",\n        \"num_unique_values\": 2,\n        \"samples\": [\n          \"female\",\n          \"male\"\n        ],\n        \"semantic_type\": \"\",\n        \"description\": \"\"\n      }\n    },\n    {\n      \"column\": \"Age\",\n      \"properties\": {\n        \"dtype\": \"number\",\n        \"std\": 14.18120923562442,\n        \"min\": 0.17,\n        \"max\": 76.0,\n        \"num_unique_values\": 79,\n        \"samples\": [\n          10.0,\n          34.5\n        ],\n        \"semantic_type\": \"\",\n        \"description\": \"\"\n      }\n    },\n    {\n      \"column\": \"SibSp\",\n      \"properties\": {\n        \"dtype\": \"number\",\n        \"std\": 0,\n        \"min\": 0,\n        \"max\": 8,\n        \"num_unique_values\": 7,\n        \"samples\": [\n          0,\n          1\n        ],\n        \"semantic_type\": \"\",\n        \"description\": \"\"\n      }\n    },\n    {\n      \"column\": \"Parch\",\n      \"properties\": {\n        \"dtype\": \"number\",\n        \"std\": 0,\n        \"min\": 0,\n        \"max\": 9,\n        \"num_unique_values\": 8,\n        \"samples\": [\n          1,\n          6\n        ],\n        \"semantic_type\": \"\",\n        \"description\": \"\"\n      }\n    },\n    {\n      \"column\": \"Ticket\",\n      \"properties\": {\n        \"dtype\": \"string\",\n        \"num_unique_values\": 363,\n        \"samples\": [\n          \"2673\",\n          \"W./C. 6607\"\n        ],\n        \"semantic_type\": \"\",\n        \"description\": \"\"\n      }\n    },\n    {\n      \"column\": \"Fare\",\n      \"properties\": {\n        \"dtype\": \"number\",\n        \"std\": 55.90757617997383,\n        \"min\": 0.0,\n        \"max\": 512.3292,\n        \"num_unique_values\": 169,\n        \"samples\": [\n          41.5792,\n          57.75\n        ],\n        \"semantic_type\": \"\",\n        \"description\": \"\"\n      }\n    },\n    {\n      \"column\": \"Cabin\",\n      \"properties\": {\n        \"dtype\": \"category\",\n        \"num_unique_values\": 76,\n        \"samples\": [\n          \"A21\",\n          \"E45\"\n        ],\n        \"semantic_type\": \"\",\n        \"description\": \"\"\n      }\n    },\n    {\n      \"column\": \"Embarked\",\n      \"properties\": {\n        \"dtype\": \"category\",\n        \"num_unique_values\": 3,\n        \"samples\": [\n          \"Q\",\n          \"S\"\n        ],\n        \"semantic_type\": \"\",\n        \"description\": \"\"\n      }\n    }\n  ]\n}"
            }
          },
          "metadata": {},
          "execution_count": 87
        }
      ]
    },
    {
      "cell_type": "markdown",
      "source": [
        "---"
      ],
      "metadata": {
        "id": "oMXo9uOmt5Kh"
      }
    },
    {
      "cell_type": "code",
      "source": [
        "train.head(10)"
      ],
      "metadata": {
        "colab": {
          "base_uri": "https://localhost:8080/",
          "height": 0
        },
        "id": "bXRm_XnLtVoX",
        "outputId": "dbabbd68-ecc3-4882-d2e6-a96717fa7039"
      },
      "execution_count": 88,
      "outputs": [
        {
          "output_type": "execute_result",
          "data": {
            "text/plain": [
              "   PassengerId  Survived  Pclass  \\\n",
              "0            1         0       3   \n",
              "1            2         1       1   \n",
              "2            3         1       3   \n",
              "3            4         1       1   \n",
              "4            5         0       3   \n",
              "5            6         0       3   \n",
              "6            7         0       1   \n",
              "7            8         0       3   \n",
              "8            9         1       3   \n",
              "9           10         1       2   \n",
              "\n",
              "                                                Name     Sex   Age  SibSp  \\\n",
              "0                            Braund, Mr. Owen Harris    male  22.0      1   \n",
              "1  Cumings, Mrs. John Bradley (Florence Briggs Th...  female  38.0      1   \n",
              "2                             Heikkinen, Miss. Laina  female  26.0      0   \n",
              "3       Futrelle, Mrs. Jacques Heath (Lily May Peel)  female  35.0      1   \n",
              "4                           Allen, Mr. William Henry    male  35.0      0   \n",
              "5                                   Moran, Mr. James    male   NaN      0   \n",
              "6                            McCarthy, Mr. Timothy J    male  54.0      0   \n",
              "7                     Palsson, Master. Gosta Leonard    male   2.0      3   \n",
              "8  Johnson, Mrs. Oscar W (Elisabeth Vilhelmina Berg)  female  27.0      0   \n",
              "9                Nasser, Mrs. Nicholas (Adele Achem)  female  14.0      1   \n",
              "\n",
              "   Parch            Ticket     Fare Cabin Embarked  \n",
              "0      0         A/5 21171   7.2500   NaN        S  \n",
              "1      0          PC 17599  71.2833   C85        C  \n",
              "2      0  STON/O2. 3101282   7.9250   NaN        S  \n",
              "3      0            113803  53.1000  C123        S  \n",
              "4      0            373450   8.0500   NaN        S  \n",
              "5      0            330877   8.4583   NaN        Q  \n",
              "6      0             17463  51.8625   E46        S  \n",
              "7      1            349909  21.0750   NaN        S  \n",
              "8      2            347742  11.1333   NaN        S  \n",
              "9      0            237736  30.0708   NaN        C  "
            ],
            "text/html": [
              "\n",
              "  <div id=\"df-10a67008-cea9-4747-a0c1-4c606f2568ea\" class=\"colab-df-container\">\n",
              "    <div>\n",
              "<style scoped>\n",
              "    .dataframe tbody tr th:only-of-type {\n",
              "        vertical-align: middle;\n",
              "    }\n",
              "\n",
              "    .dataframe tbody tr th {\n",
              "        vertical-align: top;\n",
              "    }\n",
              "\n",
              "    .dataframe thead th {\n",
              "        text-align: right;\n",
              "    }\n",
              "</style>\n",
              "<table border=\"1\" class=\"dataframe\">\n",
              "  <thead>\n",
              "    <tr style=\"text-align: right;\">\n",
              "      <th></th>\n",
              "      <th>PassengerId</th>\n",
              "      <th>Survived</th>\n",
              "      <th>Pclass</th>\n",
              "      <th>Name</th>\n",
              "      <th>Sex</th>\n",
              "      <th>Age</th>\n",
              "      <th>SibSp</th>\n",
              "      <th>Parch</th>\n",
              "      <th>Ticket</th>\n",
              "      <th>Fare</th>\n",
              "      <th>Cabin</th>\n",
              "      <th>Embarked</th>\n",
              "    </tr>\n",
              "  </thead>\n",
              "  <tbody>\n",
              "    <tr>\n",
              "      <th>0</th>\n",
              "      <td>1</td>\n",
              "      <td>0</td>\n",
              "      <td>3</td>\n",
              "      <td>Braund, Mr. Owen Harris</td>\n",
              "      <td>male</td>\n",
              "      <td>22.0</td>\n",
              "      <td>1</td>\n",
              "      <td>0</td>\n",
              "      <td>A/5 21171</td>\n",
              "      <td>7.2500</td>\n",
              "      <td>NaN</td>\n",
              "      <td>S</td>\n",
              "    </tr>\n",
              "    <tr>\n",
              "      <th>1</th>\n",
              "      <td>2</td>\n",
              "      <td>1</td>\n",
              "      <td>1</td>\n",
              "      <td>Cumings, Mrs. John Bradley (Florence Briggs Th...</td>\n",
              "      <td>female</td>\n",
              "      <td>38.0</td>\n",
              "      <td>1</td>\n",
              "      <td>0</td>\n",
              "      <td>PC 17599</td>\n",
              "      <td>71.2833</td>\n",
              "      <td>C85</td>\n",
              "      <td>C</td>\n",
              "    </tr>\n",
              "    <tr>\n",
              "      <th>2</th>\n",
              "      <td>3</td>\n",
              "      <td>1</td>\n",
              "      <td>3</td>\n",
              "      <td>Heikkinen, Miss. Laina</td>\n",
              "      <td>female</td>\n",
              "      <td>26.0</td>\n",
              "      <td>0</td>\n",
              "      <td>0</td>\n",
              "      <td>STON/O2. 3101282</td>\n",
              "      <td>7.9250</td>\n",
              "      <td>NaN</td>\n",
              "      <td>S</td>\n",
              "    </tr>\n",
              "    <tr>\n",
              "      <th>3</th>\n",
              "      <td>4</td>\n",
              "      <td>1</td>\n",
              "      <td>1</td>\n",
              "      <td>Futrelle, Mrs. Jacques Heath (Lily May Peel)</td>\n",
              "      <td>female</td>\n",
              "      <td>35.0</td>\n",
              "      <td>1</td>\n",
              "      <td>0</td>\n",
              "      <td>113803</td>\n",
              "      <td>53.1000</td>\n",
              "      <td>C123</td>\n",
              "      <td>S</td>\n",
              "    </tr>\n",
              "    <tr>\n",
              "      <th>4</th>\n",
              "      <td>5</td>\n",
              "      <td>0</td>\n",
              "      <td>3</td>\n",
              "      <td>Allen, Mr. William Henry</td>\n",
              "      <td>male</td>\n",
              "      <td>35.0</td>\n",
              "      <td>0</td>\n",
              "      <td>0</td>\n",
              "      <td>373450</td>\n",
              "      <td>8.0500</td>\n",
              "      <td>NaN</td>\n",
              "      <td>S</td>\n",
              "    </tr>\n",
              "    <tr>\n",
              "      <th>5</th>\n",
              "      <td>6</td>\n",
              "      <td>0</td>\n",
              "      <td>3</td>\n",
              "      <td>Moran, Mr. James</td>\n",
              "      <td>male</td>\n",
              "      <td>NaN</td>\n",
              "      <td>0</td>\n",
              "      <td>0</td>\n",
              "      <td>330877</td>\n",
              "      <td>8.4583</td>\n",
              "      <td>NaN</td>\n",
              "      <td>Q</td>\n",
              "    </tr>\n",
              "    <tr>\n",
              "      <th>6</th>\n",
              "      <td>7</td>\n",
              "      <td>0</td>\n",
              "      <td>1</td>\n",
              "      <td>McCarthy, Mr. Timothy J</td>\n",
              "      <td>male</td>\n",
              "      <td>54.0</td>\n",
              "      <td>0</td>\n",
              "      <td>0</td>\n",
              "      <td>17463</td>\n",
              "      <td>51.8625</td>\n",
              "      <td>E46</td>\n",
              "      <td>S</td>\n",
              "    </tr>\n",
              "    <tr>\n",
              "      <th>7</th>\n",
              "      <td>8</td>\n",
              "      <td>0</td>\n",
              "      <td>3</td>\n",
              "      <td>Palsson, Master. Gosta Leonard</td>\n",
              "      <td>male</td>\n",
              "      <td>2.0</td>\n",
              "      <td>3</td>\n",
              "      <td>1</td>\n",
              "      <td>349909</td>\n",
              "      <td>21.0750</td>\n",
              "      <td>NaN</td>\n",
              "      <td>S</td>\n",
              "    </tr>\n",
              "    <tr>\n",
              "      <th>8</th>\n",
              "      <td>9</td>\n",
              "      <td>1</td>\n",
              "      <td>3</td>\n",
              "      <td>Johnson, Mrs. Oscar W (Elisabeth Vilhelmina Berg)</td>\n",
              "      <td>female</td>\n",
              "      <td>27.0</td>\n",
              "      <td>0</td>\n",
              "      <td>2</td>\n",
              "      <td>347742</td>\n",
              "      <td>11.1333</td>\n",
              "      <td>NaN</td>\n",
              "      <td>S</td>\n",
              "    </tr>\n",
              "    <tr>\n",
              "      <th>9</th>\n",
              "      <td>10</td>\n",
              "      <td>1</td>\n",
              "      <td>2</td>\n",
              "      <td>Nasser, Mrs. Nicholas (Adele Achem)</td>\n",
              "      <td>female</td>\n",
              "      <td>14.0</td>\n",
              "      <td>1</td>\n",
              "      <td>0</td>\n",
              "      <td>237736</td>\n",
              "      <td>30.0708</td>\n",
              "      <td>NaN</td>\n",
              "      <td>C</td>\n",
              "    </tr>\n",
              "  </tbody>\n",
              "</table>\n",
              "</div>\n",
              "    <div class=\"colab-df-buttons\">\n",
              "\n",
              "  <div class=\"colab-df-container\">\n",
              "    <button class=\"colab-df-convert\" onclick=\"convertToInteractive('df-10a67008-cea9-4747-a0c1-4c606f2568ea')\"\n",
              "            title=\"Convert this dataframe to an interactive table.\"\n",
              "            style=\"display:none;\">\n",
              "\n",
              "  <svg xmlns=\"http://www.w3.org/2000/svg\" height=\"24px\" viewBox=\"0 -960 960 960\">\n",
              "    <path d=\"M120-120v-720h720v720H120Zm60-500h600v-160H180v160Zm220 220h160v-160H400v160Zm0 220h160v-160H400v160ZM180-400h160v-160H180v160Zm440 0h160v-160H620v160ZM180-180h160v-160H180v160Zm440 0h160v-160H620v160Z\"/>\n",
              "  </svg>\n",
              "    </button>\n",
              "\n",
              "  <style>\n",
              "    .colab-df-container {\n",
              "      display:flex;\n",
              "      gap: 12px;\n",
              "    }\n",
              "\n",
              "    .colab-df-convert {\n",
              "      background-color: #E8F0FE;\n",
              "      border: none;\n",
              "      border-radius: 50%;\n",
              "      cursor: pointer;\n",
              "      display: none;\n",
              "      fill: #1967D2;\n",
              "      height: 32px;\n",
              "      padding: 0 0 0 0;\n",
              "      width: 32px;\n",
              "    }\n",
              "\n",
              "    .colab-df-convert:hover {\n",
              "      background-color: #E2EBFA;\n",
              "      box-shadow: 0px 1px 2px rgba(60, 64, 67, 0.3), 0px 1px 3px 1px rgba(60, 64, 67, 0.15);\n",
              "      fill: #174EA6;\n",
              "    }\n",
              "\n",
              "    .colab-df-buttons div {\n",
              "      margin-bottom: 4px;\n",
              "    }\n",
              "\n",
              "    [theme=dark] .colab-df-convert {\n",
              "      background-color: #3B4455;\n",
              "      fill: #D2E3FC;\n",
              "    }\n",
              "\n",
              "    [theme=dark] .colab-df-convert:hover {\n",
              "      background-color: #434B5C;\n",
              "      box-shadow: 0px 1px 3px 1px rgba(0, 0, 0, 0.15);\n",
              "      filter: drop-shadow(0px 1px 2px rgba(0, 0, 0, 0.3));\n",
              "      fill: #FFFFFF;\n",
              "    }\n",
              "  </style>\n",
              "\n",
              "    <script>\n",
              "      const buttonEl =\n",
              "        document.querySelector('#df-10a67008-cea9-4747-a0c1-4c606f2568ea button.colab-df-convert');\n",
              "      buttonEl.style.display =\n",
              "        google.colab.kernel.accessAllowed ? 'block' : 'none';\n",
              "\n",
              "      async function convertToInteractive(key) {\n",
              "        const element = document.querySelector('#df-10a67008-cea9-4747-a0c1-4c606f2568ea');\n",
              "        const dataTable =\n",
              "          await google.colab.kernel.invokeFunction('convertToInteractive',\n",
              "                                                    [key], {});\n",
              "        if (!dataTable) return;\n",
              "\n",
              "        const docLinkHtml = 'Like what you see? Visit the ' +\n",
              "          '<a target=\"_blank\" href=https://colab.research.google.com/notebooks/data_table.ipynb>data table notebook</a>'\n",
              "          + ' to learn more about interactive tables.';\n",
              "        element.innerHTML = '';\n",
              "        dataTable['output_type'] = 'display_data';\n",
              "        await google.colab.output.renderOutput(dataTable, element);\n",
              "        const docLink = document.createElement('div');\n",
              "        docLink.innerHTML = docLinkHtml;\n",
              "        element.appendChild(docLink);\n",
              "      }\n",
              "    </script>\n",
              "  </div>\n",
              "\n",
              "\n",
              "    <div id=\"df-53cf9a32-edda-483f-83f2-c9b6358e9a6f\">\n",
              "      <button class=\"colab-df-quickchart\" onclick=\"quickchart('df-53cf9a32-edda-483f-83f2-c9b6358e9a6f')\"\n",
              "                title=\"Suggest charts\"\n",
              "                style=\"display:none;\">\n",
              "\n",
              "<svg xmlns=\"http://www.w3.org/2000/svg\" height=\"24px\"viewBox=\"0 0 24 24\"\n",
              "     width=\"24px\">\n",
              "    <g>\n",
              "        <path d=\"M19 3H5c-1.1 0-2 .9-2 2v14c0 1.1.9 2 2 2h14c1.1 0 2-.9 2-2V5c0-1.1-.9-2-2-2zM9 17H7v-7h2v7zm4 0h-2V7h2v10zm4 0h-2v-4h2v4z\"/>\n",
              "    </g>\n",
              "</svg>\n",
              "      </button>\n",
              "\n",
              "<style>\n",
              "  .colab-df-quickchart {\n",
              "      --bg-color: #E8F0FE;\n",
              "      --fill-color: #1967D2;\n",
              "      --hover-bg-color: #E2EBFA;\n",
              "      --hover-fill-color: #174EA6;\n",
              "      --disabled-fill-color: #AAA;\n",
              "      --disabled-bg-color: #DDD;\n",
              "  }\n",
              "\n",
              "  [theme=dark] .colab-df-quickchart {\n",
              "      --bg-color: #3B4455;\n",
              "      --fill-color: #D2E3FC;\n",
              "      --hover-bg-color: #434B5C;\n",
              "      --hover-fill-color: #FFFFFF;\n",
              "      --disabled-bg-color: #3B4455;\n",
              "      --disabled-fill-color: #666;\n",
              "  }\n",
              "\n",
              "  .colab-df-quickchart {\n",
              "    background-color: var(--bg-color);\n",
              "    border: none;\n",
              "    border-radius: 50%;\n",
              "    cursor: pointer;\n",
              "    display: none;\n",
              "    fill: var(--fill-color);\n",
              "    height: 32px;\n",
              "    padding: 0;\n",
              "    width: 32px;\n",
              "  }\n",
              "\n",
              "  .colab-df-quickchart:hover {\n",
              "    background-color: var(--hover-bg-color);\n",
              "    box-shadow: 0 1px 2px rgba(60, 64, 67, 0.3), 0 1px 3px 1px rgba(60, 64, 67, 0.15);\n",
              "    fill: var(--button-hover-fill-color);\n",
              "  }\n",
              "\n",
              "  .colab-df-quickchart-complete:disabled,\n",
              "  .colab-df-quickchart-complete:disabled:hover {\n",
              "    background-color: var(--disabled-bg-color);\n",
              "    fill: var(--disabled-fill-color);\n",
              "    box-shadow: none;\n",
              "  }\n",
              "\n",
              "  .colab-df-spinner {\n",
              "    border: 2px solid var(--fill-color);\n",
              "    border-color: transparent;\n",
              "    border-bottom-color: var(--fill-color);\n",
              "    animation:\n",
              "      spin 1s steps(1) infinite;\n",
              "  }\n",
              "\n",
              "  @keyframes spin {\n",
              "    0% {\n",
              "      border-color: transparent;\n",
              "      border-bottom-color: var(--fill-color);\n",
              "      border-left-color: var(--fill-color);\n",
              "    }\n",
              "    20% {\n",
              "      border-color: transparent;\n",
              "      border-left-color: var(--fill-color);\n",
              "      border-top-color: var(--fill-color);\n",
              "    }\n",
              "    30% {\n",
              "      border-color: transparent;\n",
              "      border-left-color: var(--fill-color);\n",
              "      border-top-color: var(--fill-color);\n",
              "      border-right-color: var(--fill-color);\n",
              "    }\n",
              "    40% {\n",
              "      border-color: transparent;\n",
              "      border-right-color: var(--fill-color);\n",
              "      border-top-color: var(--fill-color);\n",
              "    }\n",
              "    60% {\n",
              "      border-color: transparent;\n",
              "      border-right-color: var(--fill-color);\n",
              "    }\n",
              "    80% {\n",
              "      border-color: transparent;\n",
              "      border-right-color: var(--fill-color);\n",
              "      border-bottom-color: var(--fill-color);\n",
              "    }\n",
              "    90% {\n",
              "      border-color: transparent;\n",
              "      border-bottom-color: var(--fill-color);\n",
              "    }\n",
              "  }\n",
              "</style>\n",
              "\n",
              "      <script>\n",
              "        async function quickchart(key) {\n",
              "          const quickchartButtonEl =\n",
              "            document.querySelector('#' + key + ' button');\n",
              "          quickchartButtonEl.disabled = true;  // To prevent multiple clicks.\n",
              "          quickchartButtonEl.classList.add('colab-df-spinner');\n",
              "          try {\n",
              "            const charts = await google.colab.kernel.invokeFunction(\n",
              "                'suggestCharts', [key], {});\n",
              "          } catch (error) {\n",
              "            console.error('Error during call to suggestCharts:', error);\n",
              "          }\n",
              "          quickchartButtonEl.classList.remove('colab-df-spinner');\n",
              "          quickchartButtonEl.classList.add('colab-df-quickchart-complete');\n",
              "        }\n",
              "        (() => {\n",
              "          let quickchartButtonEl =\n",
              "            document.querySelector('#df-53cf9a32-edda-483f-83f2-c9b6358e9a6f button');\n",
              "          quickchartButtonEl.style.display =\n",
              "            google.colab.kernel.accessAllowed ? 'block' : 'none';\n",
              "        })();\n",
              "      </script>\n",
              "    </div>\n",
              "\n",
              "    </div>\n",
              "  </div>\n"
            ],
            "application/vnd.google.colaboratory.intrinsic+json": {
              "type": "dataframe",
              "variable_name": "train",
              "summary": "{\n  \"name\": \"train\",\n  \"rows\": 891,\n  \"fields\": [\n    {\n      \"column\": \"PassengerId\",\n      \"properties\": {\n        \"dtype\": \"number\",\n        \"std\": 257,\n        \"min\": 1,\n        \"max\": 891,\n        \"num_unique_values\": 891,\n        \"samples\": [\n          710,\n          440,\n          841\n        ],\n        \"semantic_type\": \"\",\n        \"description\": \"\"\n      }\n    },\n    {\n      \"column\": \"Survived\",\n      \"properties\": {\n        \"dtype\": \"number\",\n        \"std\": 0,\n        \"min\": 0,\n        \"max\": 1,\n        \"num_unique_values\": 2,\n        \"samples\": [\n          1,\n          0\n        ],\n        \"semantic_type\": \"\",\n        \"description\": \"\"\n      }\n    },\n    {\n      \"column\": \"Pclass\",\n      \"properties\": {\n        \"dtype\": \"number\",\n        \"std\": 0,\n        \"min\": 1,\n        \"max\": 3,\n        \"num_unique_values\": 3,\n        \"samples\": [\n          3,\n          1\n        ],\n        \"semantic_type\": \"\",\n        \"description\": \"\"\n      }\n    },\n    {\n      \"column\": \"Name\",\n      \"properties\": {\n        \"dtype\": \"string\",\n        \"num_unique_values\": 891,\n        \"samples\": [\n          \"Moubarek, Master. Halim Gonios (\\\"William George\\\")\",\n          \"Kvillner, Mr. Johan Henrik Johannesson\"\n        ],\n        \"semantic_type\": \"\",\n        \"description\": \"\"\n      }\n    },\n    {\n      \"column\": \"Sex\",\n      \"properties\": {\n        \"dtype\": \"category\",\n        \"num_unique_values\": 2,\n        \"samples\": [\n          \"female\",\n          \"male\"\n        ],\n        \"semantic_type\": \"\",\n        \"description\": \"\"\n      }\n    },\n    {\n      \"column\": \"Age\",\n      \"properties\": {\n        \"dtype\": \"number\",\n        \"std\": 14.526497332334044,\n        \"min\": 0.42,\n        \"max\": 80.0,\n        \"num_unique_values\": 88,\n        \"samples\": [\n          0.75,\n          22.0\n        ],\n        \"semantic_type\": \"\",\n        \"description\": \"\"\n      }\n    },\n    {\n      \"column\": \"SibSp\",\n      \"properties\": {\n        \"dtype\": \"number\",\n        \"std\": 1,\n        \"min\": 0,\n        \"max\": 8,\n        \"num_unique_values\": 7,\n        \"samples\": [\n          1,\n          0\n        ],\n        \"semantic_type\": \"\",\n        \"description\": \"\"\n      }\n    },\n    {\n      \"column\": \"Parch\",\n      \"properties\": {\n        \"dtype\": \"number\",\n        \"std\": 0,\n        \"min\": 0,\n        \"max\": 6,\n        \"num_unique_values\": 7,\n        \"samples\": [\n          0,\n          1\n        ],\n        \"semantic_type\": \"\",\n        \"description\": \"\"\n      }\n    },\n    {\n      \"column\": \"Ticket\",\n      \"properties\": {\n        \"dtype\": \"string\",\n        \"num_unique_values\": 681,\n        \"samples\": [\n          \"11774\",\n          \"248740\"\n        ],\n        \"semantic_type\": \"\",\n        \"description\": \"\"\n      }\n    },\n    {\n      \"column\": \"Fare\",\n      \"properties\": {\n        \"dtype\": \"number\",\n        \"std\": 49.693428597180905,\n        \"min\": 0.0,\n        \"max\": 512.3292,\n        \"num_unique_values\": 248,\n        \"samples\": [\n          11.2417,\n          51.8625\n        ],\n        \"semantic_type\": \"\",\n        \"description\": \"\"\n      }\n    },\n    {\n      \"column\": \"Cabin\",\n      \"properties\": {\n        \"dtype\": \"category\",\n        \"num_unique_values\": 147,\n        \"samples\": [\n          \"D45\",\n          \"B49\"\n        ],\n        \"semantic_type\": \"\",\n        \"description\": \"\"\n      }\n    },\n    {\n      \"column\": \"Embarked\",\n      \"properties\": {\n        \"dtype\": \"category\",\n        \"num_unique_values\": 3,\n        \"samples\": [\n          \"S\",\n          \"C\"\n        ],\n        \"semantic_type\": \"\",\n        \"description\": \"\"\n      }\n    }\n  ]\n}"
            }
          },
          "metadata": {},
          "execution_count": 88
        }
      ]
    },
    {
      "cell_type": "markdown",
      "source": [
        "*Thought: From the data set I am guessing I have to work with train dataset, which contains maximum amount of columns.*"
      ],
      "metadata": {
        "id": "CTd4WLl7Wtzp"
      }
    },
    {
      "cell_type": "markdown",
      "source": [
        "# Data Manipulation"
      ],
      "metadata": {
        "id": "k7YSwG412eoP"
      }
    },
    {
      "cell_type": "markdown",
      "source": [
        "1. **Checking missing values**"
      ],
      "metadata": {
        "id": "UkJp0-4ljyl8"
      }
    },
    {
      "cell_type": "code",
      "source": [
        "print(train.isnull().sum())"
      ],
      "metadata": {
        "id": "2onNJV2Lt8oQ",
        "colab": {
          "base_uri": "https://localhost:8080/"
        },
        "outputId": "98b657f5-1343-4d5c-da8b-2bb5482f3c76"
      },
      "execution_count": 89,
      "outputs": [
        {
          "output_type": "stream",
          "name": "stdout",
          "text": [
            "PassengerId      0\n",
            "Survived         0\n",
            "Pclass           0\n",
            "Name             0\n",
            "Sex              0\n",
            "Age            177\n",
            "SibSp            0\n",
            "Parch            0\n",
            "Ticket           0\n",
            "Fare             0\n",
            "Cabin          687\n",
            "Embarked         2\n",
            "dtype: int64\n"
          ]
        }
      ]
    },
    {
      "cell_type": "code",
      "source": [
        "missing_percentage = train.isnull().sum() / len(train)*100\n",
        "print(missing_percentage)"
      ],
      "metadata": {
        "colab": {
          "base_uri": "https://localhost:8080/"
        },
        "id": "qKOD7upnk8cM",
        "outputId": "d0cdb066-ea96-48ed-f35f-174f667a3b98"
      },
      "execution_count": 90,
      "outputs": [
        {
          "output_type": "stream",
          "name": "stdout",
          "text": [
            "PassengerId     0.000000\n",
            "Survived        0.000000\n",
            "Pclass          0.000000\n",
            "Name            0.000000\n",
            "Sex             0.000000\n",
            "Age            19.865320\n",
            "SibSp           0.000000\n",
            "Parch           0.000000\n",
            "Ticket          0.000000\n",
            "Fare            0.000000\n",
            "Cabin          77.104377\n",
            "Embarked        0.224467\n",
            "dtype: float64\n"
          ]
        }
      ]
    },
    {
      "cell_type": "markdown",
      "source": [
        "2. **Handling missing values**"
      ],
      "metadata": {
        "id": "cBrhuzb1mfCc"
      }
    },
    {
      "cell_type": "code",
      "source": [
        "print('Filled missing Age with median value')\n",
        "median_age = train['Age'].median()\n",
        "train['Age'] = train['Age'].fillna(median_age)\n",
        "print(median_age)"
      ],
      "metadata": {
        "colab": {
          "base_uri": "https://localhost:8080/"
        },
        "id": "q17NJzbim98H",
        "outputId": "f57cb44e-0676-44c4-8baf-bbdc08a4a1fe"
      },
      "execution_count": 91,
      "outputs": [
        {
          "output_type": "stream",
          "name": "stdout",
          "text": [
            "Filled missing Age with median value\n",
            "28.0\n"
          ]
        }
      ]
    },
    {
      "cell_type": "markdown",
      "source": [
        "why choose median?\n",
        "- it automatically ignore NaN values\n",
        "- here, i want middle values, not average"
      ],
      "metadata": {
        "id": "SUJD2qxXoZCm"
      }
    },
    {
      "cell_type": "code",
      "source": [
        "print('Creating Indicator as type of integer instead of delete those.')\n",
        "train['Cabin_Known'] = train['Cabin'].notna().astype(int)\n",
        "#train['Cabin_Known']\n",
        "train.head(2)"
      ],
      "metadata": {
        "colab": {
          "base_uri": "https://localhost:8080/",
          "height": 0
        },
        "id": "Rq8IvWS1oUu7",
        "outputId": "047fb916-a1a8-42d1-a45f-42e79294ca03"
      },
      "execution_count": 92,
      "outputs": [
        {
          "output_type": "stream",
          "name": "stdout",
          "text": [
            "Creating Indicator as type of integer instead of delete those.\n"
          ]
        },
        {
          "output_type": "execute_result",
          "data": {
            "text/plain": [
              "   PassengerId  Survived  Pclass  \\\n",
              "0            1         0       3   \n",
              "1            2         1       1   \n",
              "\n",
              "                                                Name     Sex   Age  SibSp  \\\n",
              "0                            Braund, Mr. Owen Harris    male  22.0      1   \n",
              "1  Cumings, Mrs. John Bradley (Florence Briggs Th...  female  38.0      1   \n",
              "\n",
              "   Parch     Ticket     Fare Cabin Embarked  Cabin_Known  \n",
              "0      0  A/5 21171   7.2500   NaN        S            0  \n",
              "1      0   PC 17599  71.2833   C85        C            1  "
            ],
            "text/html": [
              "\n",
              "  <div id=\"df-3956d657-3bbd-4871-a7d7-fac94349f9a5\" class=\"colab-df-container\">\n",
              "    <div>\n",
              "<style scoped>\n",
              "    .dataframe tbody tr th:only-of-type {\n",
              "        vertical-align: middle;\n",
              "    }\n",
              "\n",
              "    .dataframe tbody tr th {\n",
              "        vertical-align: top;\n",
              "    }\n",
              "\n",
              "    .dataframe thead th {\n",
              "        text-align: right;\n",
              "    }\n",
              "</style>\n",
              "<table border=\"1\" class=\"dataframe\">\n",
              "  <thead>\n",
              "    <tr style=\"text-align: right;\">\n",
              "      <th></th>\n",
              "      <th>PassengerId</th>\n",
              "      <th>Survived</th>\n",
              "      <th>Pclass</th>\n",
              "      <th>Name</th>\n",
              "      <th>Sex</th>\n",
              "      <th>Age</th>\n",
              "      <th>SibSp</th>\n",
              "      <th>Parch</th>\n",
              "      <th>Ticket</th>\n",
              "      <th>Fare</th>\n",
              "      <th>Cabin</th>\n",
              "      <th>Embarked</th>\n",
              "      <th>Cabin_Known</th>\n",
              "    </tr>\n",
              "  </thead>\n",
              "  <tbody>\n",
              "    <tr>\n",
              "      <th>0</th>\n",
              "      <td>1</td>\n",
              "      <td>0</td>\n",
              "      <td>3</td>\n",
              "      <td>Braund, Mr. Owen Harris</td>\n",
              "      <td>male</td>\n",
              "      <td>22.0</td>\n",
              "      <td>1</td>\n",
              "      <td>0</td>\n",
              "      <td>A/5 21171</td>\n",
              "      <td>7.2500</td>\n",
              "      <td>NaN</td>\n",
              "      <td>S</td>\n",
              "      <td>0</td>\n",
              "    </tr>\n",
              "    <tr>\n",
              "      <th>1</th>\n",
              "      <td>2</td>\n",
              "      <td>1</td>\n",
              "      <td>1</td>\n",
              "      <td>Cumings, Mrs. John Bradley (Florence Briggs Th...</td>\n",
              "      <td>female</td>\n",
              "      <td>38.0</td>\n",
              "      <td>1</td>\n",
              "      <td>0</td>\n",
              "      <td>PC 17599</td>\n",
              "      <td>71.2833</td>\n",
              "      <td>C85</td>\n",
              "      <td>C</td>\n",
              "      <td>1</td>\n",
              "    </tr>\n",
              "  </tbody>\n",
              "</table>\n",
              "</div>\n",
              "    <div class=\"colab-df-buttons\">\n",
              "\n",
              "  <div class=\"colab-df-container\">\n",
              "    <button class=\"colab-df-convert\" onclick=\"convertToInteractive('df-3956d657-3bbd-4871-a7d7-fac94349f9a5')\"\n",
              "            title=\"Convert this dataframe to an interactive table.\"\n",
              "            style=\"display:none;\">\n",
              "\n",
              "  <svg xmlns=\"http://www.w3.org/2000/svg\" height=\"24px\" viewBox=\"0 -960 960 960\">\n",
              "    <path d=\"M120-120v-720h720v720H120Zm60-500h600v-160H180v160Zm220 220h160v-160H400v160Zm0 220h160v-160H400v160ZM180-400h160v-160H180v160Zm440 0h160v-160H620v160ZM180-180h160v-160H180v160Zm440 0h160v-160H620v160Z\"/>\n",
              "  </svg>\n",
              "    </button>\n",
              "\n",
              "  <style>\n",
              "    .colab-df-container {\n",
              "      display:flex;\n",
              "      gap: 12px;\n",
              "    }\n",
              "\n",
              "    .colab-df-convert {\n",
              "      background-color: #E8F0FE;\n",
              "      border: none;\n",
              "      border-radius: 50%;\n",
              "      cursor: pointer;\n",
              "      display: none;\n",
              "      fill: #1967D2;\n",
              "      height: 32px;\n",
              "      padding: 0 0 0 0;\n",
              "      width: 32px;\n",
              "    }\n",
              "\n",
              "    .colab-df-convert:hover {\n",
              "      background-color: #E2EBFA;\n",
              "      box-shadow: 0px 1px 2px rgba(60, 64, 67, 0.3), 0px 1px 3px 1px rgba(60, 64, 67, 0.15);\n",
              "      fill: #174EA6;\n",
              "    }\n",
              "\n",
              "    .colab-df-buttons div {\n",
              "      margin-bottom: 4px;\n",
              "    }\n",
              "\n",
              "    [theme=dark] .colab-df-convert {\n",
              "      background-color: #3B4455;\n",
              "      fill: #D2E3FC;\n",
              "    }\n",
              "\n",
              "    [theme=dark] .colab-df-convert:hover {\n",
              "      background-color: #434B5C;\n",
              "      box-shadow: 0px 1px 3px 1px rgba(0, 0, 0, 0.15);\n",
              "      filter: drop-shadow(0px 1px 2px rgba(0, 0, 0, 0.3));\n",
              "      fill: #FFFFFF;\n",
              "    }\n",
              "  </style>\n",
              "\n",
              "    <script>\n",
              "      const buttonEl =\n",
              "        document.querySelector('#df-3956d657-3bbd-4871-a7d7-fac94349f9a5 button.colab-df-convert');\n",
              "      buttonEl.style.display =\n",
              "        google.colab.kernel.accessAllowed ? 'block' : 'none';\n",
              "\n",
              "      async function convertToInteractive(key) {\n",
              "        const element = document.querySelector('#df-3956d657-3bbd-4871-a7d7-fac94349f9a5');\n",
              "        const dataTable =\n",
              "          await google.colab.kernel.invokeFunction('convertToInteractive',\n",
              "                                                    [key], {});\n",
              "        if (!dataTable) return;\n",
              "\n",
              "        const docLinkHtml = 'Like what you see? Visit the ' +\n",
              "          '<a target=\"_blank\" href=https://colab.research.google.com/notebooks/data_table.ipynb>data table notebook</a>'\n",
              "          + ' to learn more about interactive tables.';\n",
              "        element.innerHTML = '';\n",
              "        dataTable['output_type'] = 'display_data';\n",
              "        await google.colab.output.renderOutput(dataTable, element);\n",
              "        const docLink = document.createElement('div');\n",
              "        docLink.innerHTML = docLinkHtml;\n",
              "        element.appendChild(docLink);\n",
              "      }\n",
              "    </script>\n",
              "  </div>\n",
              "\n",
              "\n",
              "    <div id=\"df-8af94bea-b832-42be-ab37-496fb1905423\">\n",
              "      <button class=\"colab-df-quickchart\" onclick=\"quickchart('df-8af94bea-b832-42be-ab37-496fb1905423')\"\n",
              "                title=\"Suggest charts\"\n",
              "                style=\"display:none;\">\n",
              "\n",
              "<svg xmlns=\"http://www.w3.org/2000/svg\" height=\"24px\"viewBox=\"0 0 24 24\"\n",
              "     width=\"24px\">\n",
              "    <g>\n",
              "        <path d=\"M19 3H5c-1.1 0-2 .9-2 2v14c0 1.1.9 2 2 2h14c1.1 0 2-.9 2-2V5c0-1.1-.9-2-2-2zM9 17H7v-7h2v7zm4 0h-2V7h2v10zm4 0h-2v-4h2v4z\"/>\n",
              "    </g>\n",
              "</svg>\n",
              "      </button>\n",
              "\n",
              "<style>\n",
              "  .colab-df-quickchart {\n",
              "      --bg-color: #E8F0FE;\n",
              "      --fill-color: #1967D2;\n",
              "      --hover-bg-color: #E2EBFA;\n",
              "      --hover-fill-color: #174EA6;\n",
              "      --disabled-fill-color: #AAA;\n",
              "      --disabled-bg-color: #DDD;\n",
              "  }\n",
              "\n",
              "  [theme=dark] .colab-df-quickchart {\n",
              "      --bg-color: #3B4455;\n",
              "      --fill-color: #D2E3FC;\n",
              "      --hover-bg-color: #434B5C;\n",
              "      --hover-fill-color: #FFFFFF;\n",
              "      --disabled-bg-color: #3B4455;\n",
              "      --disabled-fill-color: #666;\n",
              "  }\n",
              "\n",
              "  .colab-df-quickchart {\n",
              "    background-color: var(--bg-color);\n",
              "    border: none;\n",
              "    border-radius: 50%;\n",
              "    cursor: pointer;\n",
              "    display: none;\n",
              "    fill: var(--fill-color);\n",
              "    height: 32px;\n",
              "    padding: 0;\n",
              "    width: 32px;\n",
              "  }\n",
              "\n",
              "  .colab-df-quickchart:hover {\n",
              "    background-color: var(--hover-bg-color);\n",
              "    box-shadow: 0 1px 2px rgba(60, 64, 67, 0.3), 0 1px 3px 1px rgba(60, 64, 67, 0.15);\n",
              "    fill: var(--button-hover-fill-color);\n",
              "  }\n",
              "\n",
              "  .colab-df-quickchart-complete:disabled,\n",
              "  .colab-df-quickchart-complete:disabled:hover {\n",
              "    background-color: var(--disabled-bg-color);\n",
              "    fill: var(--disabled-fill-color);\n",
              "    box-shadow: none;\n",
              "  }\n",
              "\n",
              "  .colab-df-spinner {\n",
              "    border: 2px solid var(--fill-color);\n",
              "    border-color: transparent;\n",
              "    border-bottom-color: var(--fill-color);\n",
              "    animation:\n",
              "      spin 1s steps(1) infinite;\n",
              "  }\n",
              "\n",
              "  @keyframes spin {\n",
              "    0% {\n",
              "      border-color: transparent;\n",
              "      border-bottom-color: var(--fill-color);\n",
              "      border-left-color: var(--fill-color);\n",
              "    }\n",
              "    20% {\n",
              "      border-color: transparent;\n",
              "      border-left-color: var(--fill-color);\n",
              "      border-top-color: var(--fill-color);\n",
              "    }\n",
              "    30% {\n",
              "      border-color: transparent;\n",
              "      border-left-color: var(--fill-color);\n",
              "      border-top-color: var(--fill-color);\n",
              "      border-right-color: var(--fill-color);\n",
              "    }\n",
              "    40% {\n",
              "      border-color: transparent;\n",
              "      border-right-color: var(--fill-color);\n",
              "      border-top-color: var(--fill-color);\n",
              "    }\n",
              "    60% {\n",
              "      border-color: transparent;\n",
              "      border-right-color: var(--fill-color);\n",
              "    }\n",
              "    80% {\n",
              "      border-color: transparent;\n",
              "      border-right-color: var(--fill-color);\n",
              "      border-bottom-color: var(--fill-color);\n",
              "    }\n",
              "    90% {\n",
              "      border-color: transparent;\n",
              "      border-bottom-color: var(--fill-color);\n",
              "    }\n",
              "  }\n",
              "</style>\n",
              "\n",
              "      <script>\n",
              "        async function quickchart(key) {\n",
              "          const quickchartButtonEl =\n",
              "            document.querySelector('#' + key + ' button');\n",
              "          quickchartButtonEl.disabled = true;  // To prevent multiple clicks.\n",
              "          quickchartButtonEl.classList.add('colab-df-spinner');\n",
              "          try {\n",
              "            const charts = await google.colab.kernel.invokeFunction(\n",
              "                'suggestCharts', [key], {});\n",
              "          } catch (error) {\n",
              "            console.error('Error during call to suggestCharts:', error);\n",
              "          }\n",
              "          quickchartButtonEl.classList.remove('colab-df-spinner');\n",
              "          quickchartButtonEl.classList.add('colab-df-quickchart-complete');\n",
              "        }\n",
              "        (() => {\n",
              "          let quickchartButtonEl =\n",
              "            document.querySelector('#df-8af94bea-b832-42be-ab37-496fb1905423 button');\n",
              "          quickchartButtonEl.style.display =\n",
              "            google.colab.kernel.accessAllowed ? 'block' : 'none';\n",
              "        })();\n",
              "      </script>\n",
              "    </div>\n",
              "\n",
              "    </div>\n",
              "  </div>\n"
            ],
            "application/vnd.google.colaboratory.intrinsic+json": {
              "type": "dataframe",
              "variable_name": "train",
              "summary": "{\n  \"name\": \"train\",\n  \"rows\": 891,\n  \"fields\": [\n    {\n      \"column\": \"PassengerId\",\n      \"properties\": {\n        \"dtype\": \"number\",\n        \"std\": 257,\n        \"min\": 1,\n        \"max\": 891,\n        \"num_unique_values\": 891,\n        \"samples\": [\n          710,\n          440,\n          841\n        ],\n        \"semantic_type\": \"\",\n        \"description\": \"\"\n      }\n    },\n    {\n      \"column\": \"Survived\",\n      \"properties\": {\n        \"dtype\": \"number\",\n        \"std\": 0,\n        \"min\": 0,\n        \"max\": 1,\n        \"num_unique_values\": 2,\n        \"samples\": [\n          1,\n          0\n        ],\n        \"semantic_type\": \"\",\n        \"description\": \"\"\n      }\n    },\n    {\n      \"column\": \"Pclass\",\n      \"properties\": {\n        \"dtype\": \"number\",\n        \"std\": 0,\n        \"min\": 1,\n        \"max\": 3,\n        \"num_unique_values\": 3,\n        \"samples\": [\n          3,\n          1\n        ],\n        \"semantic_type\": \"\",\n        \"description\": \"\"\n      }\n    },\n    {\n      \"column\": \"Name\",\n      \"properties\": {\n        \"dtype\": \"string\",\n        \"num_unique_values\": 891,\n        \"samples\": [\n          \"Moubarek, Master. Halim Gonios (\\\"William George\\\")\",\n          \"Kvillner, Mr. Johan Henrik Johannesson\"\n        ],\n        \"semantic_type\": \"\",\n        \"description\": \"\"\n      }\n    },\n    {\n      \"column\": \"Sex\",\n      \"properties\": {\n        \"dtype\": \"category\",\n        \"num_unique_values\": 2,\n        \"samples\": [\n          \"female\",\n          \"male\"\n        ],\n        \"semantic_type\": \"\",\n        \"description\": \"\"\n      }\n    },\n    {\n      \"column\": \"Age\",\n      \"properties\": {\n        \"dtype\": \"number\",\n        \"std\": 13.019696550973194,\n        \"min\": 0.42,\n        \"max\": 80.0,\n        \"num_unique_values\": 88,\n        \"samples\": [\n          0.75,\n          22.0\n        ],\n        \"semantic_type\": \"\",\n        \"description\": \"\"\n      }\n    },\n    {\n      \"column\": \"SibSp\",\n      \"properties\": {\n        \"dtype\": \"number\",\n        \"std\": 1,\n        \"min\": 0,\n        \"max\": 8,\n        \"num_unique_values\": 7,\n        \"samples\": [\n          1,\n          0\n        ],\n        \"semantic_type\": \"\",\n        \"description\": \"\"\n      }\n    },\n    {\n      \"column\": \"Parch\",\n      \"properties\": {\n        \"dtype\": \"number\",\n        \"std\": 0,\n        \"min\": 0,\n        \"max\": 6,\n        \"num_unique_values\": 7,\n        \"samples\": [\n          0,\n          1\n        ],\n        \"semantic_type\": \"\",\n        \"description\": \"\"\n      }\n    },\n    {\n      \"column\": \"Ticket\",\n      \"properties\": {\n        \"dtype\": \"string\",\n        \"num_unique_values\": 681,\n        \"samples\": [\n          \"11774\",\n          \"248740\"\n        ],\n        \"semantic_type\": \"\",\n        \"description\": \"\"\n      }\n    },\n    {\n      \"column\": \"Fare\",\n      \"properties\": {\n        \"dtype\": \"number\",\n        \"std\": 49.693428597180905,\n        \"min\": 0.0,\n        \"max\": 512.3292,\n        \"num_unique_values\": 248,\n        \"samples\": [\n          11.2417,\n          51.8625\n        ],\n        \"semantic_type\": \"\",\n        \"description\": \"\"\n      }\n    },\n    {\n      \"column\": \"Cabin\",\n      \"properties\": {\n        \"dtype\": \"category\",\n        \"num_unique_values\": 147,\n        \"samples\": [\n          \"D45\",\n          \"B49\"\n        ],\n        \"semantic_type\": \"\",\n        \"description\": \"\"\n      }\n    },\n    {\n      \"column\": \"Embarked\",\n      \"properties\": {\n        \"dtype\": \"category\",\n        \"num_unique_values\": 3,\n        \"samples\": [\n          \"S\",\n          \"C\"\n        ],\n        \"semantic_type\": \"\",\n        \"description\": \"\"\n      }\n    },\n    {\n      \"column\": \"Cabin_Known\",\n      \"properties\": {\n        \"dtype\": \"number\",\n        \"std\": 0,\n        \"min\": 0,\n        \"max\": 1,\n        \"num_unique_values\": 2,\n        \"samples\": [\n          1,\n          0\n        ],\n        \"semantic_type\": \"\",\n        \"description\": \"\"\n      }\n    }\n  ]\n}"
            }
          },
          "metadata": {},
          "execution_count": 92
        }
      ]
    },
    {
      "cell_type": "markdown",
      "source": [
        "why create Indicator?\n",
        "- 77% of passengers have missing cabin data\n",
        "- instead of deleting this info, I created an indicator\n",
        "- many algorithms work better with numbers (0/1) than text (\"Yes\"/\"No\")"
      ],
      "metadata": {
        "id": "FpcEex5tqazm"
      }
    },
    {
      "cell_type": "code",
      "source": [
        "print('Filled Embarked missing values with mode')\n",
        "mode_embarked = train['Embarked'].mode()[0]\n",
        "train['Embarked'] = train['Embarked'].fillna(mode_embarked)"
      ],
      "metadata": {
        "colab": {
          "base_uri": "https://localhost:8080/"
        },
        "id": "1_unsOE4sPa_",
        "outputId": "0ebb807d-c491-4cf0-eae0-4130db7cfa78"
      },
      "execution_count": 93,
      "outputs": [
        {
          "output_type": "stream",
          "name": "stdout",
          "text": [
            "Filled Embarked missing values with mode\n"
          ]
        }
      ]
    },
    {
      "cell_type": "code",
      "source": [
        "print(\"\\nMissing values after handling:\")\n",
        "print(train.isnull().sum())"
      ],
      "metadata": {
        "colab": {
          "base_uri": "https://localhost:8080/"
        },
        "id": "VLbhJn1Ct8lb",
        "outputId": "44e7ba18-ece6-41c5-acf3-ee65c0dc9410"
      },
      "execution_count": 94,
      "outputs": [
        {
          "output_type": "stream",
          "name": "stdout",
          "text": [
            "\n",
            "Missing values after handling:\n",
            "PassengerId      0\n",
            "Survived         0\n",
            "Pclass           0\n",
            "Name             0\n",
            "Sex              0\n",
            "Age              0\n",
            "SibSp            0\n",
            "Parch            0\n",
            "Ticket           0\n",
            "Fare             0\n",
            "Cabin          687\n",
            "Embarked         0\n",
            "Cabin_Known      0\n",
            "dtype: int64\n"
          ]
        }
      ]
    },
    {
      "cell_type": "markdown",
      "source": [
        "3. **Checking any duplicate records**"
      ],
      "metadata": {
        "id": "o5OlgyFnxUms"
      }
    },
    {
      "cell_type": "code",
      "source": [
        "before = train.duplicated().sum()\n",
        "print(before)"
      ],
      "metadata": {
        "colab": {
          "base_uri": "https://localhost:8080/"
        },
        "id": "G6dmCourzYcR",
        "outputId": "7b47a743-4879-4af1-8fb3-2713c539d931"
      },
      "execution_count": 95,
      "outputs": [
        {
          "output_type": "stream",
          "name": "stdout",
          "text": [
            "0\n"
          ]
        }
      ]
    },
    {
      "cell_type": "markdown",
      "source": [
        "*Thought: Hence there is no duplicated values, I am moving forward*"
      ],
      "metadata": {
        "id": "L-HueK330DbM"
      }
    },
    {
      "cell_type": "markdown",
      "source": [
        "*Thought: Convert all date-related columns into a standard format is not applicable for this dataset*"
      ],
      "metadata": {
        "id": "vCeI6HSP0g7f"
      }
    },
    {
      "cell_type": "markdown",
      "source": [
        "4. **Creating a new column for the passenger's age group** (\"Child,\" \"Adult,\" \"Senior\") **based on the 'Age' column.**"
      ],
      "metadata": {
        "id": "wm11W8dx00VZ"
      }
    },
    {
      "cell_type": "code",
      "source": [
        "train['AgeGroup'] = pd.cut(train['Age'],\n",
        "                           bins=[0, 18, 60, 100],\n",
        "                           labels=['Child', 'Adult', 'Senior'],\n",
        "                           include_lowest=True)\n",
        "\n",
        "#Age Group distribution:\n",
        "print(train['AgeGroup'].value_counts().sort_index())"
      ],
      "metadata": {
        "colab": {
          "base_uri": "https://localhost:8080/"
        },
        "id": "3wITWA3s1-7T",
        "outputId": "eb0acfc0-ec4c-4a47-d4f7-14528ec1bf1b"
      },
      "execution_count": 96,
      "outputs": [
        {
          "output_type": "stream",
          "name": "stdout",
          "text": [
            "AgeGroup\n",
            "Child     139\n",
            "Adult     730\n",
            "Senior     22\n",
            "Name: count, dtype: int64\n"
          ]
        }
      ]
    },
    {
      "cell_type": "markdown",
      "source": [
        "*Thought: As I have continuous numerical data such as: Age, I choose to go with pd.cut method, because it easier to visulize by seeing code only*"
      ],
      "metadata": {
        "id": "ht4aPaC16NgN"
      }
    },
    {
      "cell_type": "markdown",
      "source": [
        "5. **Creating derived features**"
      ],
      "metadata": {
        "id": "SBbiLhHu6FdR"
      }
    },
    {
      "cell_type": "code",
      "source": [
        "# Feature 1: Age Group by Survival\n",
        "\n",
        "print('Total people by Age distribution...')\n",
        "print(train['AgeGroup'].value_counts().sort_index())\n",
        "print()\n",
        "print('Survived people by Age distribution...\\n 0 = Not Survived \\n 1 = Survived')\n",
        "print(pd.crosstab(train['AgeGroup'], train['Survived']))"
      ],
      "metadata": {
        "colab": {
          "base_uri": "https://localhost:8080/"
        },
        "id": "RbNZrpYw7IgV",
        "outputId": "eb77000b-f517-4a38-ff1a-2c08b641f773"
      },
      "execution_count": 97,
      "outputs": [
        {
          "output_type": "stream",
          "name": "stdout",
          "text": [
            "Total people by Age distribution...\n",
            "AgeGroup\n",
            "Child     139\n",
            "Adult     730\n",
            "Senior     22\n",
            "Name: count, dtype: int64\n",
            "\n",
            "Survived people by Age distribution...\n",
            " 0 = Not Survived \n",
            " 1 = Survived\n",
            "Survived    0    1\n",
            "AgeGroup          \n",
            "Child      69   70\n",
            "Adult     463  267\n",
            "Senior     17    5\n"
          ]
        }
      ]
    },
    {
      "cell_type": "code",
      "source": [
        "# Feature 2: Family Size\n",
        "\n",
        "# From the dataset...\n",
        "# Sib = Siblings\n",
        "# Sp = Spouse\n",
        "# Par = Parents\n",
        "# ch = Children\n",
        "\n",
        "train['FamilySize'] = train['SibSp'] + train['Parch'] + 1 #here 1 represents the passenger themselves\n",
        "print(f\"  Range: {train['FamilySize'].min()} to {train['FamilySize'].max()}\")"
      ],
      "metadata": {
        "colab": {
          "base_uri": "https://localhost:8080/"
        },
        "id": "-_8R-mSF85lY",
        "outputId": "1b66b394-0b00-46cd-d7d7-1786f6d4d4f6"
      },
      "execution_count": 98,
      "outputs": [
        {
          "output_type": "stream",
          "name": "stdout",
          "text": [
            "  Range: 1 to 11\n"
          ]
        }
      ]
    },
    {
      "cell_type": "code",
      "source": [
        "# Feature 3: Is Alone\n",
        "\n",
        "train['IsAlone'] = (train['FamilySize'] == 1).astype(int)\n",
        "total_alone = train['IsAlone'].sum()\n",
        "total_alone_percentage = total_alone/len(train)*100\n",
        "print(f\"  Alone: {total_alone} passengers ({total_alone_percentage:.2f}%)\")"
      ],
      "metadata": {
        "colab": {
          "base_uri": "https://localhost:8080/"
        },
        "id": "QA4JaHGI-5kT",
        "outputId": "f710e681-3c35-4e0e-9966-cb9524f42b23"
      },
      "execution_count": 99,
      "outputs": [
        {
          "output_type": "stream",
          "name": "stdout",
          "text": [
            "  Alone: 537 passengers (60.27%)\n"
          ]
        }
      ]
    },
    {
      "cell_type": "code",
      "source": [
        "# Feature 4: Fare Per Person\n",
        "\n",
        "train['FarePerPerson'] = train['Fare'] / train['FamilySize']\n"
      ],
      "metadata": {
        "id": "Tr_bz_77A7FG"
      },
      "execution_count": 100,
      "outputs": []
    },
    {
      "cell_type": "code",
      "source": [
        "# Feature 5: Fare Category (binned)\n",
        "\n",
        "train['FareCategory'] = pd.cut(train['Fare'],\n",
        "                             bins=[0, 7.91, 14.45, 31, 600],\n",
        "                             labels=['Low', 'Medium', 'High', 'Very High'],\n",
        "                             include_lowest=True)\n",
        "\n",
        "print(train['FareCategory'].value_counts())"
      ],
      "metadata": {
        "colab": {
          "base_uri": "https://localhost:8080/"
        },
        "id": "Ymh5-k2TCpXg",
        "outputId": "d8859176-5220-4cb0-e760-14a6280466e7"
      },
      "execution_count": 101,
      "outputs": [
        {
          "output_type": "stream",
          "name": "stdout",
          "text": [
            "FareCategory\n",
            "High         229\n",
            "Low          223\n",
            "Very High    222\n",
            "Medium       217\n",
            "Name: count, dtype: int64\n"
          ]
        }
      ]
    },
    {
      "cell_type": "markdown",
      "source": [
        "6. **Identify and handle outliers**"
      ],
      "metadata": {
        "id": "lO1fPo8EKrgh"
      }
    },
    {
      "cell_type": "code",
      "source": [
        "# Function to detect outliers using IQR method\n",
        "\n",
        "def detect_outliers_iqr(data, column):\n",
        "    Q1 = data[column].quantile(0.25)\n",
        "    Q3 = data[column].quantile(0.75)\n",
        "    IQR = Q3 - Q1\n",
        "    lower_bound = Q1 - 1.5 * IQR\n",
        "    upper_bound = Q3 + 1.5 * IQR\n",
        "\n",
        "    outliers = data[(data[column] < lower_bound) | (data[column] > upper_bound)]\n",
        "\n",
        "    print(f\"\\n{column}:\")\n",
        "    print(f\"  Q1: {Q1:.2f}, Q3: {Q3:.2f}, IQR: {IQR:.2f}\")\n",
        "    print(f\"  Lower bound: {lower_bound:.2f}, Upper bound: {upper_bound:.2f}\")\n",
        "    print(f\"  Outliers detected: {len(outliers)} ({len(outliers)/len(data)*100:.1f}%)\")\n",
        "\n",
        "    return outliers, lower_bound, upper_bound"
      ],
      "metadata": {
        "id": "dzQR9fffNeVs"
      },
      "execution_count": 102,
      "outputs": []
    },
    {
      "cell_type": "code",
      "source": [
        "# Check numerical columns for outliers\n",
        "\n",
        "numerical_cols = ['Age', 'Fare', 'SibSp', 'Parch']\n",
        "\n",
        "for col in numerical_cols:\n",
        "    outliers, lower, upper = detect_outliers_iqr(train, col)\n"
      ],
      "metadata": {
        "colab": {
          "base_uri": "https://localhost:8080/"
        },
        "id": "a9QEU3Q7Onvj",
        "outputId": "f8eee9be-2d67-4e28-a9c2-87979b287b36"
      },
      "execution_count": 103,
      "outputs": [
        {
          "output_type": "stream",
          "name": "stdout",
          "text": [
            "\n",
            "Age:\n",
            "  Q1: 22.00, Q3: 35.00, IQR: 13.00\n",
            "  Lower bound: 2.50, Upper bound: 54.50\n",
            "  Outliers detected: 66 (7.4%)\n",
            "\n",
            "Fare:\n",
            "  Q1: 7.91, Q3: 31.00, IQR: 23.09\n",
            "  Lower bound: -26.72, Upper bound: 65.63\n",
            "  Outliers detected: 116 (13.0%)\n",
            "\n",
            "SibSp:\n",
            "  Q1: 0.00, Q3: 1.00, IQR: 1.00\n",
            "  Lower bound: -1.50, Upper bound: 2.50\n",
            "  Outliers detected: 46 (5.2%)\n",
            "\n",
            "Parch:\n",
            "  Q1: 0.00, Q3: 0.00, IQR: 0.00\n",
            "  Lower bound: 0.00, Upper bound: 0.00\n",
            "  Outliers detected: 213 (23.9%)\n"
          ]
        }
      ]
    },
    {
      "cell_type": "code",
      "source": [
        "# Handle outliers - FARE\n",
        "\n",
        "Q1_fare = train['Fare'].quantile(0.25)\n",
        "Q3_fare = train['Fare'].quantile(0.75)\n",
        "IQR_fare = Q3_fare - Q1_fare\n",
        "upper_fare = Q3_fare + 1.5 * IQR_fare\n",
        "\n",
        "# Cap outliers (Winsorization) - keeps all data but reduces extreme values\n",
        "train['Fare_Capped'] = train['Fare'].clip(upper=upper_fare)\n",
        "print(f\"Created 'Fare_Capped' - capped values above {upper_fare:.2f}\")"
      ],
      "metadata": {
        "colab": {
          "base_uri": "https://localhost:8080/"
        },
        "id": "WA1Uf0IWPHlK",
        "outputId": "6a209b1f-785d-4733-d2a9-208c07024389"
      },
      "execution_count": 104,
      "outputs": [
        {
          "output_type": "stream",
          "name": "stdout",
          "text": [
            "Created 'Fare_Capped' - capped values above 65.63\n"
          ]
        }
      ]
    },
    {
      "cell_type": "markdown",
      "source": [
        "*Thought:*\n",
        "*   *For Age - already handled by filling missing values with median*\n",
        "*   *Family size outliers are valid because, large families existed*"
      ],
      "metadata": {
        "id": "KhGIfZLfRWDm"
      }
    },
    {
      "cell_type": "markdown",
      "source": [
        "# Exploratory Data Analysis"
      ],
      "metadata": {
        "id": "225iCZJhXuGG"
      }
    },
    {
      "cell_type": "markdown",
      "source": [
        "1. **Descriptive statistics** (summary of the dataset)"
      ],
      "metadata": {
        "id": "mmf4S08m_azt"
      }
    },
    {
      "cell_type": "code",
      "source": [
        "# Basic info\n",
        "\n",
        "print(\"\\nDataset Overview:\")\n",
        "print(f\"Total Passengers: {len(train)}\")\n",
        "print(f\"Total Features: {len(train.columns)}\")\n",
        "print(f\"\\nColumn Names:\\n{train.columns.tolist()}\")"
      ],
      "metadata": {
        "id": "7YUWgEjuXbvz",
        "colab": {
          "base_uri": "https://localhost:8080/"
        },
        "outputId": "fd4283fd-c117-4e1a-9a93-be7affb81dc2"
      },
      "execution_count": 105,
      "outputs": [
        {
          "output_type": "stream",
          "name": "stdout",
          "text": [
            "\n",
            "Dataset Overview:\n",
            "Total Passengers: 891\n",
            "Total Features: 19\n",
            "\n",
            "Column Names:\n",
            "['PassengerId', 'Survived', 'Pclass', 'Name', 'Sex', 'Age', 'SibSp', 'Parch', 'Ticket', 'Fare', 'Cabin', 'Embarked', 'Cabin_Known', 'AgeGroup', 'FamilySize', 'IsAlone', 'FarePerPerson', 'FareCategory', 'Fare_Capped']\n"
          ]
        }
      ]
    },
    {
      "cell_type": "code",
      "source": [
        "# Descriptive statistics for numerical columns\n",
        "\n",
        "print(train.describe())"
      ],
      "metadata": {
        "colab": {
          "base_uri": "https://localhost:8080/"
        },
        "id": "17f2aS0TBzf_",
        "outputId": "0e012061-a013-4b0d-8948-bf94009c5108"
      },
      "execution_count": 106,
      "outputs": [
        {
          "output_type": "stream",
          "name": "stdout",
          "text": [
            "       PassengerId    Survived      Pclass         Age       SibSp  \\\n",
            "count   891.000000  891.000000  891.000000  891.000000  891.000000   \n",
            "mean    446.000000    0.383838    2.308642   29.361582    0.523008   \n",
            "std     257.353842    0.486592    0.836071   13.019697    1.102743   \n",
            "min       1.000000    0.000000    1.000000    0.420000    0.000000   \n",
            "25%     223.500000    0.000000    2.000000   22.000000    0.000000   \n",
            "50%     446.000000    0.000000    3.000000   28.000000    0.000000   \n",
            "75%     668.500000    1.000000    3.000000   35.000000    1.000000   \n",
            "max     891.000000    1.000000    3.000000   80.000000    8.000000   \n",
            "\n",
            "            Parch        Fare  Cabin_Known  FamilySize     IsAlone  \\\n",
            "count  891.000000  891.000000   891.000000  891.000000  891.000000   \n",
            "mean     0.381594   32.204208     0.228956    1.904602    0.602694   \n",
            "std      0.806057   49.693429     0.420397    1.613459    0.489615   \n",
            "min      0.000000    0.000000     0.000000    1.000000    0.000000   \n",
            "25%      0.000000    7.910400     0.000000    1.000000    0.000000   \n",
            "50%      0.000000   14.454200     0.000000    1.000000    1.000000   \n",
            "75%      0.000000   31.000000     0.000000    2.000000    1.000000   \n",
            "max      6.000000  512.329200     1.000000   11.000000    1.000000   \n",
            "\n",
            "       FarePerPerson  Fare_Capped  \n",
            "count     891.000000   891.000000  \n",
            "mean       19.916375    24.046813  \n",
            "std        35.841257    20.481625  \n",
            "min         0.000000     0.000000  \n",
            "25%         7.250000     7.910400  \n",
            "50%         8.300000    14.454200  \n",
            "75%        23.666667    31.000000  \n",
            "max       512.329200    65.634400  \n"
          ]
        }
      ]
    },
    {
      "cell_type": "markdown",
      "source": [
        "DOCUMENTATION - What describe() shows:\n",
        "- count: Number of non-missing values\n",
        "- mean: Average value\n",
        "- std: Standard deviation (spread of data)\n",
        "- min/max: Smallest and largest values\n",
        "- 25%, 50%, 75%: Quartiles (data distribution)\n",
        "\n",
        "KEY FINDINGS:\n",
        "- Average age: ~30 years\n",
        "- Average fare: ~32 (but varies widely - std is high)\n",
        "- 38% survival rate (mean of Survived column)\n",
        "- Most passengers in 3rd class (Pclass mean > 2)"
      ],
      "metadata": {
        "id": "2pkkGMXICc6Y"
      }
    },
    {
      "cell_type": "code",
      "source": [
        "# Categorical features summary\n",
        "\n",
        "categorical_cols = ['Survived', 'Pclass', 'Sex', 'Embarked']\n",
        "for col in categorical_cols:\n",
        "  if col in train.columns:\n",
        "    print(f\"\\n{col}:\")\n",
        "    print(train[col].value_counts())\n",
        "    print(f\"Percentage distribution:\")\n",
        "    print(train[col].value_counts(normalize=True))"
      ],
      "metadata": {
        "colab": {
          "base_uri": "https://localhost:8080/"
        },
        "id": "VRYridvECxqz",
        "outputId": "743da73d-4c20-4b64-e409-db459ef521ac"
      },
      "execution_count": 107,
      "outputs": [
        {
          "output_type": "stream",
          "name": "stdout",
          "text": [
            "\n",
            "Survived:\n",
            "Survived\n",
            "0    549\n",
            "1    342\n",
            "Name: count, dtype: int64\n",
            "Percentage distribution:\n",
            "Survived\n",
            "0    0.616162\n",
            "1    0.383838\n",
            "Name: proportion, dtype: float64\n",
            "\n",
            "Pclass:\n",
            "Pclass\n",
            "3    491\n",
            "1    216\n",
            "2    184\n",
            "Name: count, dtype: int64\n",
            "Percentage distribution:\n",
            "Pclass\n",
            "3    0.551066\n",
            "1    0.242424\n",
            "2    0.206510\n",
            "Name: proportion, dtype: float64\n",
            "\n",
            "Sex:\n",
            "Sex\n",
            "male      577\n",
            "female    314\n",
            "Name: count, dtype: int64\n",
            "Percentage distribution:\n",
            "Sex\n",
            "male      0.647587\n",
            "female    0.352413\n",
            "Name: proportion, dtype: float64\n",
            "\n",
            "Embarked:\n",
            "Embarked\n",
            "S    646\n",
            "C    168\n",
            "Q     77\n",
            "Name: count, dtype: int64\n",
            "Percentage distribution:\n",
            "Embarked\n",
            "S    0.725028\n",
            "C    0.188552\n",
            "Q    0.086420\n",
            "Name: proportion, dtype: float64\n"
          ]
        }
      ]
    },
    {
      "cell_type": "markdown",
      "source": [
        "DOCUMENTATION - Categorical Summary:\n",
        "- This shows the distribution of non-numeric features.\n",
        "\n",
        "KEY FINDINGS:\n",
        "- More males than females aboard\n",
        "- Most passengers in 3rd class (cheapest tickets)\n",
        "- Most boarded at Southampton\n",
        "- Only 38% survived overall"
      ],
      "metadata": {
        "id": "AEAeRu9NgBAp"
      }
    },
    {
      "cell_type": "markdown",
      "source": [
        "---"
      ],
      "metadata": {
        "id": "_KePXX8QihDn"
      }
    },
    {
      "cell_type": "markdown",
      "source": [
        "2. **Gender Distribution** (Bar Plot)"
      ],
      "metadata": {
        "id": "4BgJWa7iJfmi"
      }
    },
    {
      "cell_type": "code",
      "source": [
        "# Bar Plot setup\n",
        "\n",
        "plt.figure(figsize=(8, 6))\n",
        "sex_counts = train['Sex'].value_counts()\n",
        "plt.bar(sex_counts.index, sex_counts.values, color=['skyblue', 'lightcoral'])\n",
        "plt.title('Distribution of Passengers by Gender', fontsize=16, fontweight='bold')\n",
        "plt.xlabel('Gender', fontsize=12)\n",
        "plt.ylabel('Number of Passengers', fontsize=12)\n",
        "plt.xticks(fontsize=11)\n",
        "plt.yticks(fontsize=11)\n",
        "\n",
        "# Add value labels on bars\n",
        "\n",
        "for i, v in enumerate(sex_counts.values):\n",
        "  plt.text(i, v + 10, str(v), ha='center', va='bottom', fontsize=14, fontweight='bold')\n",
        "\n",
        "plt.tight_layout()\n",
        "plt.show()\n",
        "\n",
        "print(f\"\\nMale passengers: {sex_counts['male']} ({sex_counts['male']/len(train)*100:.1f}%)\")\n",
        "print(f\"Female passengers: {sex_counts['female']} ({sex_counts['female']/len(train)*100:.1f}%)\")"
      ],
      "metadata": {
        "colab": {
          "base_uri": "https://localhost:8080/",
          "height": 0
        },
        "id": "TMBzz_2XJqZq",
        "outputId": "25e76e41-9f8f-4b49-f9f5-9a082e371157"
      },
      "execution_count": 108,
      "outputs": [
        {
          "output_type": "display_data",
          "data": {
            "text/plain": [
              "<Figure size 800x600 with 1 Axes>"
            ],
            "image/png": "[encoded data removed]"
          },
          "metadata": {}
        },
        {
          "output_type": "stream",
          "name": "stdout",
          "text": [
            "\n",
            "Male passengers: 577 (64.8%)\n",
            "Female passengers: 314 (35.2%)\n"
          ]
        }
      ]
    },
    {
      "cell_type": "markdown",
      "source": [
        "DOCUMENTATION - Gender Distribution:\n",
        "- VISUALIZATION TYPE: Bar plot\n",
        "- PURPOSE: Show the gender breakdown of passengers\n",
        "\n",
        "KEY FINDINGS:\n",
        "- Significantly more males than females aboard (roughly 2:1 ratio)\n",
        "- Males: ~577 (65%)\n",
        "- Females: ~314 (35%)\n",
        "\n",
        "INTERPRETATION:\n",
        "This imbalance is typical for early 1900s travel, where more men traveled for business. This will be important when analyzing survival rates, as \"women and children first\" policy was followed."
      ],
      "metadata": {
        "id": "QlT8AVm8gk-J"
      }
    },
    {
      "cell_type": "markdown",
      "source": [
        "---"
      ],
      "metadata": {
        "id": "0BsMQpBeidUZ"
      }
    },
    {
      "cell_type": "markdown",
      "source": [
        "3. **Age Distribution** (Histogram)"
      ],
      "metadata": {
        "id": "uX0TY8uNJ8io"
      }
    },
    {
      "cell_type": "code",
      "source": [
        "# Histogram setup\n",
        "\n",
        "plt.figure(figsize=(10, 6))\n",
        "plt.hist(train['Age'].dropna(), bins=30, color='steelblue', edgecolor='black', alpha=0.7)\n",
        "plt.title('Age Distribution of Passengers', fontsize=12, fontweight='bold')\n",
        "plt.xlabel('Age (years)', fontsize=11)\n",
        "plt.ylabel('Frequency', fontsize=11)\n",
        "plt.axvline(train['Age'].mean(), color='red', linestyle='--', linewidth=2, label=f'Mean: {train[\"Age\"].mean():.1f}')\n",
        "plt.axvline(train['Age'].median(), color='green', linestyle='--', linewidth=2, label=f'Median: {train[\"Age\"].median():.1f}')\n",
        "plt.legend()\n",
        "plt.grid(axis='y', alpha=0.3)\n",
        "\n",
        "plt.tight_layout()\n",
        "plt.show()\n",
        "\n",
        "# Age statistics\n",
        "\n",
        "print(f\"\\nAge Statistics:\")\n",
        "print(f\"\\nMean Age: {train['Age'].mean():.2f} years\")\n",
        "print(f\"\\nMedian Age: {train['Age'].median():.2f} years\")\n",
        "print(f\"\\nYoungest: {train['Age'].min():.2f} years\")\n",
        "print(f\"\\nOldest: {train['Age'].max():.2f} years\")\n",
        "print(f\"\\nStandard Deviation: {train['Age'].std():.2f} years\")"
      ],
      "metadata": {
        "colab": {
          "base_uri": "https://localhost:8080/",
          "height": 0
        },
        "id": "WRHyiL_MKfHG",
        "outputId": "65f2eba6-e0c6-4b1a-df8a-78a6663be35b"
      },
      "execution_count": 109,
      "outputs": [
        {
          "output_type": "display_data",
          "data": {
            "text/plain": [
              "<Figure size 1000x600 with 1 Axes>"
            ],
            "image/png": "[encoded data removed]"
          },
          "metadata": {}
        },
        {
          "output_type": "stream",
          "name": "stdout",
          "text": [
            "\n",
            "Age Statistics:\n",
            "\n",
            "Mean Age: 29.36 years\n",
            "\n",
            "Median Age: 28.00 years\n",
            "\n",
            "Youngest: 0.42 years\n",
            "\n",
            "Oldest: 80.00 years\n",
            "\n",
            "Standard Deviation: 13.02 years\n"
          ]
        }
      ]
    },
    {
      "cell_type": "markdown",
      "source": [
        "DOCUMENTATION - Age Distribution:\n",
        "- VISUALIZATION TYPE: Histogram\n",
        "- PURPOSE: Show the spread and frequency of ages\n",
        "\n",
        "KEY FINDINGS:\n",
        "- Age ranges from ~0.5 to 80 years\n",
        "- Distribution is roughly normal (bell-shaped) with slight right skew\n",
        "- Peak around 20-30 years (young adults)\n",
        "- Mean ≈ Median (~30 years) indicates fairly symmetric distribution\n",
        "- Notable spike of children (ages 0-10)\n",
        "\n",
        "INTERPRETATION:\n",
        "- The majority of passengers were young to middle-aged adults (20-40).\n",
        "- The presence of many children suggests families were traveling.\n",
        "- Few elderly passengers, consistent with the physical demands of travel\n",
        "in that era."
      ],
      "metadata": {
        "id": "_n06W5VBhRS7"
      }
    },
    {
      "cell_type": "markdown",
      "source": [
        "---"
      ],
      "metadata": {
        "id": "_fr1JnTFiY9a"
      }
    },
    {
      "cell_type": "markdown",
      "source": [
        "4. **Survival rate by gender and class**"
      ],
      "metadata": {
        "id": "EbG7J6x4PLft"
      }
    },
    {
      "cell_type": "code",
      "source": [
        "# Create survival rate table\n",
        "\n",
        "survival_by_gender_class = train.groupby(['Sex', 'Pclass'])['Survived'].agg(['mean', 'count'])\n",
        "survival_by_gender_class.columns = ['Survival Rate', 'Count']\n",
        "print(\"\\nSurvival Rate by Gender and Class:\")\n",
        "print(survival_by_gender_class)"
      ],
      "metadata": {
        "colab": {
          "base_uri": "https://localhost:8080/"
        },
        "id": "2kneSBqSQZdN",
        "outputId": "a6d0c428-d46e-4812-ce6e-5f6bf5b058ee"
      },
      "execution_count": 110,
      "outputs": [
        {
          "output_type": "stream",
          "name": "stdout",
          "text": [
            "\n",
            "Survival Rate by Gender and Class:\n",
            "               Survival Rate  Count\n",
            "Sex    Pclass                      \n",
            "female 1            0.968085     94\n",
            "       2            0.921053     76\n",
            "       3            0.500000    144\n",
            "male   1            0.368852    122\n",
            "       2            0.157407    108\n",
            "       3            0.135447    347\n"
          ]
        }
      ]
    },
    {
      "cell_type": "code",
      "source": [
        "# Visualization 1: Grouped Bar Chart\n",
        "\n",
        "fig, axes = plt.subplots(1, 2, figsize=(14, 6))\n",
        "\n",
        "# Left plot: Survival by Gender\n",
        "\n",
        "survival_by_sex = train.groupby('Sex')['Survived'].mean()\n",
        "axes[0].bar(survival_by_sex.index, survival_by_sex.values, color=['skyblue', 'lightcoral'])\n",
        "axes[0].set_title('Survival Rate by Gender', fontsize=16, fontweight='bold')\n",
        "axes[0].set_ylabel('Survival Rate', fontsize=12)\n",
        "axes[0].set_xlabel('Gender', fontsize=12)\n",
        "axes[0].set_ylim(0, 1)\n",
        "\n",
        "for i, v in enumerate(survival_by_sex.values):\n",
        "  axes[0].text(i, v + 0.02, f'{v:.1%}', ha='center', fontweight='bold')\n",
        "\n",
        "# Right plot: Survival by Class\n",
        "\n",
        "survival_by_class = train.groupby('Pclass')['Survived'].mean()\n",
        "axes[1].bar(survival_by_class.index, survival_by_class.values, color=['gold', 'silver', '#CD7F32'])\n",
        "axes[1].set_title('Survival Rate by Passenger Class', fontsize=16, fontweight='bold')\n",
        "axes[1].set_ylabel('Survival Rate', fontsize=12)\n",
        "axes[1].set_xlabel('Passenger Class', fontsize=12)\n",
        "axes[1].set_ylim(0, 1)\n",
        "axes[1].set_xticks([1, 2, 3])\n",
        "axes[1].set_xticklabels(['1st Class', '2nd Class', '3rd Class'])\n",
        "\n",
        "for i, v in zip(survival_by_class.index, survival_by_class.values):\n",
        "  axes[1].text(i, v + 0.02, f'{v:.1%}', ha='center', fontweight='bold')\n",
        "\n",
        "plt.tight_layout()\n",
        "plt.show()"
      ],
      "metadata": {
        "colab": {
          "base_uri": "https://localhost:8080/",
          "height": 0
        },
        "id": "by0GD_0ERtio",
        "outputId": "b12ea263-e2f6-42e6-9a3b-470988d23ac7"
      },
      "execution_count": 111,
      "outputs": [
        {
          "output_type": "display_data",
          "data": {
            "text/plain": [
              "<Figure size 1400x600 with 2 Axes>"
            ],
            "image/png": "[encoded data removed]"
          },
          "metadata": {}
        }
      ]
    },
    {
      "cell_type": "code",
      "source": [
        "# Visualization 2: Heatmap\n",
        "\n",
        "plt.figure(figsize=(10, 6))\n",
        "pivot_survival = train.pivot_table(values='Survived', index='Sex', columns='Pclass', aggfunc='mean')\n",
        "sns.heatmap(pivot_survival, annot=True, fmt='.2%', cmap='RdYlGn', cbar_kws={'label': 'Survival Rate'},\n",
        "            vmin=0, vmax=1, linewidths=1, linecolor='black')\n",
        "plt.title('Survival Rate Heatmap: Gender vs Passenger Class', fontsize=16, fontweight='bold')\n",
        "plt.xlabel('Passenger Class', fontsize=12)\n",
        "plt.ylabel('Gender', fontsize=12)\n",
        "plt.xticks([0.5, 1.5, 2.5], ['1st Class', '2nd Class', '3rd Class'])\n",
        "plt.tight_layout()\n",
        "plt.show()"
      ],
      "metadata": {
        "colab": {
          "base_uri": "https://localhost:8080/",
          "height": 0
        },
        "id": "EYbHPWMxZPok",
        "outputId": "6434a96f-73c3-4a2e-eeb7-ccd97c6084a5"
      },
      "execution_count": 112,
      "outputs": [
        {
          "output_type": "display_data",
          "data": {
            "text/plain": [
              "<Figure size 1000x600 with 2 Axes>"
            ],
            "image/png": "[encoded data removed]"
          },
          "metadata": {}
        }
      ]
    },
    {
      "cell_type": "markdown",
      "source": [
        "DOCUMENTATION - Survival by Gender and Class:\n",
        "- VISUALIZATION TYPE: Bar charts and Heatmap\n",
        "- PURPOSE: Analyze survival patterns across gender and socioeconomic status\n",
        "\n",
        "KEY FINDINGS:\n",
        "1. GENDER (most significant factor):\n",
        "   - Female survival: ~74%\n",
        "   - Male survival: ~19%\n",
        "   - Women were 4x more likely to survive!\n",
        "\n",
        "2. CLASS (socioeconomic impact):\n",
        "   - 1st Class: ~63% survived\n",
        "   - 2nd Class: ~47% survived\n",
        "   - 3rd Class: ~24% survived\n",
        "   - Clear correlation: Higher class = Better survival\n",
        "\n",
        "3. COMBINED EFFECTS:\n",
        "   - 1st Class Females: ~97% survived (almost all!)\n",
        "   - 3rd Class Males: ~14% survived (very few)\n",
        "   - Class matters, but gender matters MORE\n",
        "\n",
        "INTERPRETATION:\n",
        "The \"women and children first\" evacuation policy is clearly evident.\n",
        "However, class also played a major role - likely due to:\n",
        "- Cabin location (1st class closer to deck)\n",
        "- Information access (crew prioritized wealthy passengers)\n",
        "- Physical barriers (locked gates in 3rd class areas)\n",
        "\n",
        "This reveals both the social hierarchy of the era and the maritime\n",
        "protocols followed during the disaster."
      ],
      "metadata": {
        "id": "sbWwVc3Ed3GI"
      }
    },
    {
      "cell_type": "markdown",
      "source": [
        "---"
      ],
      "metadata": {
        "id": "XkxKhoVnHfiz"
      }
    },
    {
      "cell_type": "markdown",
      "source": [
        "5. **Additional interesting visualizations**"
      ],
      "metadata": {
        "id": "6eHxjnxWHiYk"
      }
    },
    {
      "cell_type": "code",
      "source": [
        "# Visualization 1: Age Distribution by Survival\n",
        "\n",
        "fig, axes = plt.subplots(1, 2, figsize=(14, 6))\n",
        "\n",
        "# Histogram comparison\n",
        "\n",
        "axes[0].hist(train[train['Survived'] == 1]['Age'].dropna(),\n",
        "              bins=20, alpha=0.7, label='Survived', color='green')\n",
        "axes[0].hist(train[train['Survived'] == 0]['Age'].dropna(),\n",
        "              bins=20, alpha=0.7, label='Did Not Survive', color='red')\n",
        "axes[0].set_title('Age Distribution by Survival Status', fontsize=14, fontweight='bold')\n",
        "axes[0].set_xlabel('Age', fontsize=12)\n",
        "axes[0].set_ylabel('Frequency', fontsize=12)\n",
        "axes[0].legend()\n",
        "axes[0].grid(axis='y', alpha=0.3)\n",
        "\n",
        "# Box plot comparison\n",
        "\n",
        "survival_labels = {0: 'Did Not Survive', 1: 'Survived'}\n",
        "train['Survival_Label'] = train['Survived'].map(survival_labels)\n",
        "\n",
        "sns.boxplot(\n",
        "    data=train,\n",
        "    x='Survival_Label',\n",
        "    y='Age',\n",
        "    hue='Survival_Label',\n",
        "    palette={'Did Not Survive': 'red', 'Survived': 'green'},\n",
        "    legend=False,\n",
        "    ax=axes[1]\n",
        ")\n",
        "\n",
        "axes[1].set_title('Age Distribution by Survival (Box Plot)', fontsize=14, fontweight='bold')\n",
        "axes[1].set_xlabel('', fontsize=12)\n",
        "axes[1].set_ylabel('Age', fontsize=12)\n",
        "\n",
        "plt.tight_layout()\n",
        "plt.show()\n",
        "\n",
        "print(\"\\nAge by Survival Status:\")\n",
        "print(train.groupby('Survived')['Age'].describe())"
      ],
      "metadata": {
        "colab": {
          "base_uri": "https://localhost:8080/",
          "height": 0
        },
        "id": "AC0sJZQIIUiH",
        "outputId": "ec1b69c7-b70c-404b-e92a-3a2d7d999d03"
      },
      "execution_count": 113,
      "outputs": [
        {
          "output_type": "display_data",
          "data": {
            "text/plain": [
              "<Figure size 1400x600 with 2 Axes>"
            ],
            "image/png": "[encoded data removed]"
          },
          "metadata": {}
        },
        {
          "output_type": "stream",
          "name": "stdout",
          "text": [
            "\n",
            "Age by Survival Status:\n",
            "          count       mean        std   min   25%   50%   75%   max\n",
            "Survived                                                           \n",
            "0         549.0  30.028233  12.499986  1.00  23.0  28.0  35.0  74.0\n",
            "1         342.0  28.291433  13.764425  0.42  21.0  28.0  35.0  80.0\n"
          ]
        }
      ]
    },
    {
      "cell_type": "markdown",
      "source": [
        "DOCUMENTATION - Age and Survival:\n",
        "KEY FINDINGS:\n",
        "- Survivors were slightly younger on average (28 vs 30 years)\n",
        "- Children (under 10) had better survival rates\n",
        "- Elderly passengers had lower survival rates\n",
        "- Greater variation in non-survivor ages\n",
        "\n",
        "INTERPRETATION:\n",
        "\"Women and children first\" policy helped younger passengers.\n",
        "Physical ability to reach lifeboats may have favored younger adults."
      ],
      "metadata": {
        "id": "BpNSeDUdJ_hY"
      }
    },
    {
      "cell_type": "code",
      "source": [
        "# Visualization 2: Fare Distribution by Class and Survival\n",
        "\n",
        "plt.figure(figsize=(12, 6))\n",
        "sns.violinplot(data=train, x='Pclass', y='Fare', hue='Survived', split=True, palette=['red', 'green'])\n",
        "plt.title('Fare Distribution by Class and Survival', fontsize=14, fontweight='bold')\n",
        "plt.xlabel('Passenger Class', fontsize=12)\n",
        "plt.ylabel('Fare (£)', fontsize=12)\n",
        "plt.xticks([0, 1, 2], ['1st Class', '2nd Class', '3rd Class'])\n",
        "plt.legend(title='Survived', labels=['No', 'Yes'])\n",
        "plt.tight_layout()\n",
        "plt.show()"
      ],
      "metadata": {
        "colab": {
          "base_uri": "https://localhost:8080/",
          "height": 0
        },
        "id": "JSTbEYpFKSCd",
        "outputId": "355ae054-190b-4aa7-d878-b4dce543401c"
      },
      "execution_count": 114,
      "outputs": [
        {
          "output_type": "display_data",
          "data": {
            "text/plain": [
              "<Figure size 1200x600 with 1 Axes>"
            ],
            "image/png": "[encoded data removed]"
          },
          "metadata": {}
        }
      ]
    },
    {
      "cell_type": "markdown",
      "source": [
        "DOCUMENTATION - Fare Analysis:\n",
        "KEY FINDINGS:\n",
        "- 1st class fares varied widely (some paid 10x more than others)\n",
        "- Higher fares within each class correlated with better survival\n",
        "- 3rd class fares were relatively uniform and low\n",
        "\n",
        "INTERPRETATION:\n",
        "Even within classes, wealthier passengers (higher fares) had\n",
        "advantages, possibly better cabin locations or priority information."
      ],
      "metadata": {
        "id": "j3lhaTyKKfW-"
      }
    },
    {
      "cell_type": "code",
      "source": [
        "# Visualization 3: Family Size and Survival\n",
        "\n",
        "if 'FamilySize' in train.columns:\n",
        "    plt.figure(figsize=(10, 6))\n",
        "    survival_by_family = train.groupby('FamilySize')['Survived'].agg(['mean', 'count'])\n",
        "\n",
        "    fig, ax1 = plt.subplots(figsize=(10, 6))\n",
        "\n",
        "    color = 'steelblue'\n",
        "    ax1.bar(survival_by_family.index, survival_by_family['mean'], color=color, alpha=0.7)\n",
        "    ax1.set_xlabel('Family Size', fontsize=12)\n",
        "    ax1.set_ylabel('Survival Rate', fontsize=12, color=color)\n",
        "    ax1.tick_params(axis='y', labelcolor=color)\n",
        "    ax1.set_ylim(0, 1)\n",
        "\n",
        "    ax2 = ax1.twinx()\n",
        "    color = 'orange'\n",
        "    ax2.plot(survival_by_family.index, survival_by_family['count'], color=color, marker='o', linewidth=2)\n",
        "    ax2.set_ylabel('Number of Passengers', fontsize=12, color=color)\n",
        "    ax2.tick_params(axis='y', labelcolor=color)\n",
        "\n",
        "    plt.title('Survival Rate and Count by Family Size', fontsize=14, fontweight='bold')\n",
        "    plt.tight_layout()\n",
        "    plt.show()\n",
        "\n",
        "    print(\"\\nSurvival by Family Size:\")\n",
        "    print(survival_by_family)"
      ],
      "metadata": {
        "colab": {
          "base_uri": "https://localhost:8080/",
          "height": 0
        },
        "id": "2JuAotxSKz_7",
        "outputId": "25844bc3-7dcb-48e7-ed14-a6d1541ba57e"
      },
      "execution_count": 115,
      "outputs": [
        {
          "output_type": "display_data",
          "data": {
            "text/plain": [
              "<Figure size 1000x600 with 0 Axes>"
            ]
          },
          "metadata": {}
        },
        {
          "output_type": "display_data",
          "data": {
            "text/plain": [
              "<Figure size 1000x600 with 2 Axes>"
            ],
            "image/png": "[encoded data removed]"
          },
          "metadata": {}
        },
        {
          "output_type": "stream",
          "name": "stdout",
          "text": [
            "\n",
            "Survival by Family Size:\n",
            "                mean  count\n",
            "FamilySize                 \n",
            "1           0.303538    537\n",
            "2           0.552795    161\n",
            "3           0.578431    102\n",
            "4           0.724138     29\n",
            "5           0.200000     15\n",
            "6           0.136364     22\n",
            "7           0.333333     12\n",
            "8           0.000000      6\n",
            "11          0.000000      7\n"
          ]
        }
      ]
    },
    {
      "cell_type": "markdown",
      "source": [
        "DOCUMENTATION - Family Size Impact:\n",
        "KEY FINDINGS:\n",
        "- Traveling alone (FamilySize=1): Lower survival (~30%)\n",
        "- Small families (2-4): Highest survival (~55-70%)\n",
        "- Large families (5+): Very low survival (~20%)\n",
        "\n",
        "INTERPRETATION:\n",
        "Small family groups could coordinate evacuation effectively.\n",
        "Solo travelers lacked support during crisis.\n",
        "Large families struggled to keep everyone together in chaos."
      ],
      "metadata": {
        "id": "px2p5SutK9OT"
      }
    },
    {
      "cell_type": "code",
      "source": [
        "# Visualization 4: Embarkation Port Analysis\n",
        "\n",
        "plt.figure(figsize=(12, 5))\n",
        "\n",
        "# Count plot\n",
        "\n",
        "plt.subplot(1, 2, 1)\n",
        "embark_counts = train['Embarked'].value_counts()\n",
        "plt.bar(embark_counts.index, embark_counts.values, color=['skyblue', 'lightcoral', 'lightgreen'])\n",
        "plt.title('Passengers by Embarkation Port', fontsize=14, fontweight='bold')\n",
        "plt.xlabel('Port', fontsize=12)\n",
        "plt.ylabel('Count', fontsize=12)\n",
        "port_names = {'S': 'Southampton', 'C': 'Cherbourg', 'Q': 'Queenstown'}\n",
        "plt.xticks(range(len(embark_counts)), [f\"{k}\\n{port_names[k]}\" for k in embark_counts.index])\n",
        "\n",
        "# Survival rate by port\n",
        "\n",
        "plt.subplot(1, 2, 2)\n",
        "survival_by_port = train.groupby('Embarked')['Survived'].mean()\n",
        "plt.bar(survival_by_port.index, survival_by_port.values, color=['skyblue', 'lightcoral', 'lightgreen'])\n",
        "plt.title('Survival Rate by Embarkation Port', fontsize=14, fontweight='bold')\n",
        "plt.xlabel('Port', fontsize=12)\n",
        "plt.ylabel('Survival Rate', fontsize=12)\n",
        "plt.xticks(range(len(survival_by_port)), [f\"{k}\\n{port_names[k]}\" for k in survival_by_port.index])\n",
        "plt.ylim(0, 1)\n",
        "for i, v in enumerate(survival_by_port.values):\n",
        "    plt.text(i, v + 0.02, f'{v:.1%}', ha='center', fontweight='bold')\n",
        "\n",
        "plt.tight_layout()\n",
        "plt.show()"
      ],
      "metadata": {
        "colab": {
          "base_uri": "https://localhost:8080/",
          "height": 0
        },
        "id": "0gkzRCi9LkcV",
        "outputId": "3e7c6730-b08c-40d9-e9a4-b896ab1d7c69"
      },
      "execution_count": 116,
      "outputs": [
        {
          "output_type": "display_data",
          "data": {
            "text/plain": [
              "<Figure size 1200x500 with 2 Axes>"
            ],
            "image/png": "[encoded data removed]"
          },
          "metadata": {}
        }
      ]
    },
    {
      "cell_type": "markdown",
      "source": [
        "DOCUMENTATION - Embarkation Port:\n",
        "KEY FINDINGS:\n",
        "- Southampton: Most passengers (72%), lower survival (34%)\n",
        "- Cherbourg: 19% of passengers, highest survival (55%)\n",
        "- Queenstown: 9% of passengers, lowest survival (39%)\n",
        "\n",
        "INTERPRETATION:\n",
        "Cherbourg passengers (mostly 1st class) had better survival.\n",
        "Southampton had more 3rd class passengers, affecting its survival rate.\n",
        "This reflects socioeconomic differences by boarding location."
      ],
      "metadata": {
        "id": "AkPFW5D1MLVV"
      }
    },
    {
      "cell_type": "markdown",
      "source": [
        "# Basic Statistical Analysis"
      ],
      "metadata": {
        "id": "qnqDbypsMwfB"
      }
    },
    {
      "cell_type": "markdown",
      "source": [
        "1. **MEAN, MEDIAN, MODE Calculations**"
      ],
      "metadata": {
        "id": "T4wEP0x4Ni1D"
      }
    },
    {
      "cell_type": "code",
      "source": [
        "# Function to calculate mode (most common value)\n",
        "\n",
        "def calculate_mode(series):\n",
        "    mode_result = series.mode()\n",
        "    return mode_result.values[0] if len(mode_result) > 0 else None\n",
        "\n",
        "# Analyze key columns\n",
        "\n",
        "columns_to_analyze = ['Fare', 'Age', 'SibSp', 'Parch']\n",
        "\n",
        "for col in columns_to_analyze:\n",
        "    if col in train.columns:\n",
        "        print(f\"\\n{'-'*50}\")\n",
        "        print(f\"{col.upper()} STATISTICS\")\n",
        "        print('-'*50)\n",
        "\n",
        "        mean_val = train[col].mean()\n",
        "        median_val = train[col].median()\n",
        "        mode_val = calculate_mode(train[col].dropna())\n",
        "\n",
        "# Interpretation\n",
        "\n",
        "        if mean_val > median_val:\n",
        "            print(\"\\n Interpretation: Positively skewed (right-skewed)\")\n",
        "            print(\"   → Mean > Median; suggests some high outliers pulling the mean up\")\n",
        "        elif mean_val < median_val:\n",
        "            print(\"\\n Interpretation: Negatively skewed (left-skewed)\")\n",
        "            print(\"   → Mean < Median; suggests some low outliers pulling the mean down\")\n",
        "        else:\n",
        "            print(\"\\n Interpretation: Symmetric distribution\")\n",
        "            print(\"   → Mean ≈ Median; suggests balanced distribution\")"
      ],
      "metadata": {
        "colab": {
          "base_uri": "https://localhost:8080/"
        },
        "id": "7EyxiaaaOXQL",
        "outputId": "52d6e715-aa7e-4d77-aa5b-12c47cb3a042"
      },
      "execution_count": 117,
      "outputs": [
        {
          "output_type": "stream",
          "name": "stdout",
          "text": [
            "\n",
            "--------------------------------------------------\n",
            "FARE STATISTICS\n",
            "--------------------------------------------------\n",
            "\n",
            " Interpretation: Positively skewed (right-skewed)\n",
            "   → Mean > Median; suggests some high outliers pulling the mean up\n",
            "\n",
            "--------------------------------------------------\n",
            "AGE STATISTICS\n",
            "--------------------------------------------------\n",
            "\n",
            " Interpretation: Positively skewed (right-skewed)\n",
            "   → Mean > Median; suggests some high outliers pulling the mean up\n",
            "\n",
            "--------------------------------------------------\n",
            "SIBSP STATISTICS\n",
            "--------------------------------------------------\n",
            "\n",
            " Interpretation: Positively skewed (right-skewed)\n",
            "   → Mean > Median; suggests some high outliers pulling the mean up\n",
            "\n",
            "--------------------------------------------------\n",
            "PARCH STATISTICS\n",
            "--------------------------------------------------\n",
            "\n",
            " Interpretation: Positively skewed (right-skewed)\n",
            "   → Mean > Median; suggests some high outliers pulling the mean up\n"
          ]
        }
      ]
    },
    {
      "cell_type": "markdown",
      "source": [
        "DOCUMENTATION - Central Tendency Measures:\n",
        "\n",
        "MEAN: Average value (sum / count)\n",
        "- Sensitive to outliers\n",
        "- Best for: Symmetric distributions\n",
        "\n",
        "MEDIAN: Middle value when sorted\n",
        "- Resistant to outliers\n",
        "- Best for: Skewed distributions\n",
        "\n",
        "MODE: Most frequently occurring value\n",
        "- Works for any data type\n",
        "- Best for: Categorical data\n",
        "\n",
        "KEY FINDINGS:\n",
        "\n",
        "FARE:\n",
        "- Mean > Median (positively skewed)\n",
        "- Few passengers paid very high fares (outliers)\n",
        "- Mode is lowest fare, median better represents typical passenger\n",
        "\n",
        "AGE:\n",
        "- Mean ≈ Median (fairly symmetric)\n",
        "- Normal-ish distribution\n",
        "- Most passengers in 20-40 age range\n",
        "\n",
        "SIBSP & PARCH:\n",
        "- Mode = 0 (most traveled alone or without parents/children)\n",
        "- Median = 0\n",
        "- Mean pulled up by large families"
      ],
      "metadata": {
        "id": "ZFouSFvET92L"
      }
    },
    {
      "cell_type": "markdown",
      "source": [
        "---"
      ],
      "metadata": {
        "id": "iZKLoX12U2-g"
      }
    },
    {
      "cell_type": "markdown",
      "source": [
        "2. **T-TEST for survival rate by gender**"
      ],
      "metadata": {
        "id": "g0XwqY0DVQGx"
      }
    },
    {
      "cell_type": "code",
      "source": [
        "# Separate survival data by gender\n",
        "\n",
        "male_survival = train[train['Sex'] == 'male']['Survived']\n",
        "female_survival = train[train['Sex'] == 'female']['Survived']\n",
        "\n",
        "# Perform independent t-test\n",
        "\n",
        "t_statistic, p_value = stats.ttest_ind(male_survival, female_survival)\n",
        "\n",
        "print(\"\\nHypothesis Testing:\")\n",
        "print(\"-\" * 50)\n",
        "print(\"Null Hypothesis (H0): No difference in survival rates between genders\")\n",
        "print(\"Alternative Hypothesis (H1): Significant difference in survival rates\")\n",
        "print()\n",
        "print(f\"Sample sizes:\")\n",
        "print(f\"  Males:   {len(male_survival)}\")\n",
        "print(f\"  Females: {len(female_survival)}\")\n",
        "print()\n",
        "print(f\"Survival rates:\")\n",
        "print(f\"  Males:   {male_survival.mean():.1%}\")\n",
        "print(f\"  Females: {female_survival.mean():.1%}\")\n",
        "print(f\"  Difference: {abs(female_survival.mean() - male_survival.mean()):.1%}\")\n",
        "print()\n",
        "print(f\"T-Test Results:\")\n",
        "print(f\"  t-statistic: {t_statistic:.4f}\")\n",
        "print(f\"  p-value:     {p_value:.6f}\")\n",
        "print()"
      ],
      "metadata": {
        "colab": {
          "base_uri": "https://localhost:8080/"
        },
        "id": "5AF4GXJxV04O",
        "outputId": "98435f7c-fe90-4212-deb0-7cc39a34909c"
      },
      "execution_count": 118,
      "outputs": [
        {
          "output_type": "stream",
          "name": "stdout",
          "text": [
            "\n",
            "Hypothesis Testing:\n",
            "--------------------------------------------------\n",
            "Null Hypothesis (H0): No difference in survival rates between genders\n",
            "Alternative Hypothesis (H1): Significant difference in survival rates\n",
            "\n",
            "Sample sizes:\n",
            "  Males:   577\n",
            "  Females: 314\n",
            "\n",
            "Survival rates:\n",
            "  Males:   18.9%\n",
            "  Females: 74.2%\n",
            "  Difference: 55.3%\n",
            "\n",
            "T-Test Results:\n",
            "  t-statistic: -19.2978\n",
            "  p-value:     0.000000\n",
            "\n"
          ]
        }
      ]
    },
    {
      "cell_type": "markdown",
      "source": [
        "DOCUMENTATION - T-Test Analysis:\n",
        "\n",
        "WHAT IS A T-TEST?\n",
        "- A statistical test to determine if two groups have significantly\n",
        "different means.\n",
        "\n",
        "COMPONENTS:\n",
        "- t-statistic: Measures difference relative to variation\n",
        "  (larger absolute value = more significant difference)\n",
        "- p-value: Probability result occurred by chance\n",
        "  (smaller = more significant)\n",
        "\n",
        "INTERPRETATION:\n",
        "- p-value < 0.05: Statistically significant (reject null hypothesis)\n",
        "- p-value >= 0.05: Not significant (fail to reject null hypothesis)\n",
        "\n",
        "RESULTS:\n",
        "With p-value ≈ 0.000000, we can confidently say that gender had\n",
        "a HIGHLY significant impact on survival. This wasn't random chance.\n",
        "\n",
        "PRACTICAL SIGNIFICANCE:\n",
        "Female survival (74%) vs Male survival (19%) = 55 percentage point difference!\n",
        "This huge difference reflects the \"women and children first\" policy."
      ],
      "metadata": {
        "id": "u--0w15BWy1i"
      }
    },
    {
      "cell_type": "markdown",
      "source": [
        "---"
      ],
      "metadata": {
        "id": "oF1-sGi3XuZU"
      }
    },
    {
      "cell_type": "markdown",
      "source": [
        "3. **My statistical analysis**"
      ],
      "metadata": {
        "id": "wh7rsNmEXjs8"
      }
    },
    {
      "cell_type": "code",
      "source": [
        "# Chi-Square Test: Survival vs Class\n",
        "\n",
        "print(\"\\n🔬 Chi-Square Test: Survival by Passenger Class\")\n",
        "print(\"-\" * 50)\n",
        "\n",
        "contingency_table = pd.crosstab(train['Pclass'], train['Survived'])\n",
        "print(\"\\nContingency Table:\")\n",
        "print(contingency_table)\n",
        "\n",
        "chi2, p_chi, dof, expected = stats.chi2_contingency(contingency_table)\n",
        "\n",
        "print(f\"\\nChi-Square Results:\")\n",
        "print(f\"  Chi-Square Statistic: {chi2:.4f}\")\n",
        "print(f\"  p-value: {p_chi:.6f}\")\n",
        "print(f\"  Degrees of Freedom: {dof}\")\n",
        "\n",
        "if p_chi < 0.05:\n",
        "    print(f\"\\nCONCLUSION: Passenger class and survival are significantly associated\")\n",
        "    print(f\"   Higher class passengers had better survival rates.\")\n",
        "else:\n",
        "    print(f\"\\nCONCLUSION: No significant association found\")\n"
      ],
      "metadata": {
        "colab": {
          "base_uri": "https://localhost:8080/"
        },
        "id": "ViIl8y1ZX-uA",
        "outputId": "9c3dc8b5-753b-4493-faef-e1f6aabd0112"
      },
      "execution_count": 119,
      "outputs": [
        {
          "output_type": "stream",
          "name": "stdout",
          "text": [
            "\n",
            "🔬 Chi-Square Test: Survival by Passenger Class\n",
            "--------------------------------------------------\n",
            "\n",
            "Contingency Table:\n",
            "Survived    0    1\n",
            "Pclass            \n",
            "1          80  136\n",
            "2          97   87\n",
            "3         372  119\n",
            "\n",
            "Chi-Square Results:\n",
            "  Chi-Square Statistic: 102.8890\n",
            "  p-value: 0.000000\n",
            "  Degrees of Freedom: 2\n",
            "\n",
            "CONCLUSION: Passenger class and survival are significantly associated\n",
            "   Higher class passengers had better survival rates.\n"
          ]
        }
      ]
    },
    {
      "cell_type": "markdown",
      "source": [
        "# TITANIC DISASTER ANALYSIS - MAJOR INSIGHTS"
      ],
      "metadata": {
        "id": "2vUjUxY0YPHI"
      }
    },
    {
      "cell_type": "markdown",
      "source": [
        "1. SURVIVAL OVERVIEW:\n",
        "   - Overall survival rate: 38%\n",
        "   - 342 survived out of 891 passengers\n",
        "   \n",
        "2. GENDER WAS THE STRONGEST PREDICTOR:\n",
        "   - Female survival: 74% (233 out of 314)\n",
        "   - Male survival: 19% (109 out of 577)\n",
        "   - Statistical significance: p < 0.000001\n",
        "   - \"Women and children first\" policy clearly implemented\n",
        "   \n",
        "3. CLASS PLAYED CRUCIAL ROLE:\n",
        "   - 1st Class: 63% survived\n",
        "   - 2nd Class: 47% survived  \n",
        "   - 3rd Class: 24% survived\n",
        "   - Clear socioeconomic divide in survival chances\n",
        "   \n",
        "4. AGE CONSIDERATIONS:\n",
        "   - Children (<18) had better survival rates\n",
        "   - Average survivor age: 28 years\n",
        "   - Average non-survivor age: 30 years\n",
        "   \n",
        "5. FAMILY DYNAMICS:\n",
        "   - Small families (2-4 people): Best survival (55-70%)\n",
        "   - Traveling alone: Lower survival (30%)\n",
        "   - Large families (5+): Worst survival (20%)\n",
        "   \n",
        "6. FARE ANALYSIS:\n",
        "   - Higher fares correlated with better survival\n",
        "   - Average fare of survivors: Higher than non-survivors\n",
        "   - Even within same class, higher payers had advantages\n",
        "\n",
        "7. STATISTICAL VALIDATION:\n",
        "   - All major findings statistically significant (p < 0.05)\n",
        "   - Gender difference: t-test confirms significance\n",
        "   - Class impact: Chi-square and ANOVA confirm association\n",
        "   - Results not due to random chance\n",
        "\n",
        "CONCLUSION:\n",
        "The Titanic disaster tragically illustrated early 20th century social\n",
        "hierarchies. While maritime protocol prioritized women and children,\n",
        "socioeconomic status significantly influenced survival outcomes.\n",
        "Wealthier passengers in higher classes had better access to lifeboats\n",
        "and information, while third-class passengers faced physical barriers\n",
        "and limited resources. The data provides clear statistical evidence of\n",
        "these disparities, offering important historical insights into both\n",
        "maritime safety practices and social inequality of the era."
      ],
      "metadata": {
        "id": "VTz63osoYqTy"
      }
    }
  ]
}